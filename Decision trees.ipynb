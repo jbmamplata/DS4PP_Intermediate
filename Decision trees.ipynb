{
 "cells": [
  {
   "cell_type": "code",
   "execution_count": 1,
   "id": "214436b1-4ade-41ee-8560-2e8eb0d7b014",
   "metadata": {},
   "outputs": [
    {
     "data": {
      "text/markdown": [
       "# Decision Trees Explained\n",
       "\n",
       "Decision trees are a fundamental supervised learning algorithm used for both classification and regression tasks. They work by partitioning the data into subsets based on the values of features, creating a tree-like structure of decisions.\n",
       "\n",
       "## How Decision Trees Work\n",
       "\n",
       "A decision tree is composed of:\n",
       "\n",
       "*   **Nodes:** Represent a feature or attribute used to split the data.\n",
       "*   **Branches:** Represent the outcome of a test on a node, leading to another node or a leaf.\n",
       "*   **Leaves:** Represent the final prediction or class label.\n",
       "\n",
       "The process of making a prediction with a decision tree involves traversing the tree from the root node down to a leaf node. At each internal node, the algorithm checks the value of a specific feature and follows the corresponding branch based on a predefined splitting rule. This process continues until a leaf node is reached, which provides the prediction.\n",
       "\n",
       "## Splitting Data\n",
       "\n",
       "The key to building an effective decision tree lies in how the data is split at each node. The goal is to create splits that result in the most \"pure\" subsets of data in the child nodes, meaning that the instances within each subset belong predominantly to a single class (for classification) or have similar target values (for regression). The algorithm evaluates different potential splits based on various criteria (like Gini impurity or entropy for classification) and selects the split that optimizes this purity. This recursive splitting process continues until a stopping criterion is met, such as reaching a maximum depth or having a minimum number of instances in a leaf node.\n"
      ],
      "text/plain": [
       "<IPython.core.display.Markdown object>"
      ]
     },
     "metadata": {},
     "output_type": "display_data"
    }
   ],
   "source": [
    "%%markdown\n",
    "# Decision Trees Explained\n",
    "\n",
    "Decision trees are a fundamental supervised learning algorithm used for both classification and regression tasks. They work by partitioning the data into subsets based on the values of features, creating a tree-like structure of decisions.\n",
    "\n",
    "## How Decision Trees Work\n",
    "\n",
    "A decision tree is composed of:\n",
    "\n",
    "*   **Nodes:** Represent a feature or attribute used to split the data.\n",
    "*   **Branches:** Represent the outcome of a test on a node, leading to another node or a leaf.\n",
    "*   **Leaves:** Represent the final prediction or class label.\n",
    "\n",
    "The process of making a prediction with a decision tree involves traversing the tree from the root node down to a leaf node. At each internal node, the algorithm checks the value of a specific feature and follows the corresponding branch based on a predefined splitting rule. This process continues until a leaf node is reached, which provides the prediction.\n",
    "\n",
    "## Splitting Data\n",
    "\n",
    "The key to building an effective decision tree lies in how the data is split at each node. The goal is to create splits that result in the most \"pure\" subsets of data in the child nodes, meaning that the instances within each subset belong predominantly to a single class (for classification) or have similar target values (for regression). The algorithm evaluates different potential splits based on various criteria (like Gini impurity or entropy for classification) and selects the split that optimizes this purity. This recursive splitting process continues until a stopping criterion is met, such as reaching a maximum depth or having a minimum number of instances in a leaf node."
   ]
  },
  {
   "cell_type": "code",
   "execution_count": 2,
   "id": "06402c36-9b99-4e76-9673-cc1eb3175eb1",
   "metadata": {},
   "outputs": [
    {
     "data": {
      "text/markdown": [
       "## Measures of Impurity: Gini Impurity and Entropy\n",
       "\n",
       "Decision trees use measures of impurity to evaluate the quality of a split at each node. The goal is to find the split that minimizes the impurity of the resulting child nodes. Two common measures of impurity are Gini impurity and entropy.\n",
       "\n",
       "### Gini Impurity\n",
       "\n",
       "Gini impurity measures the probability of incorrectly classifying a randomly chosen element in the dataset if it were randomly labeled according to the distribution of labels in the subset. A Gini impurity of 0 indicates a perfectly pure subset (all elements belong to the same class).\n",
       "\n",
       "The formula for Gini impurity is:\n",
       "\n",
       "$Gini(D) = 1 - \\sum_{i=1}^{c} (p_i)^2$\n",
       "\n",
       "Where:\n",
       "*   $D$ is the dataset or subset of data at a node.\n",
       "*   $c$ is the number of classes.\n",
       "*   $p_i$ is the proportion of instances belonging to class $i$ in the dataset $D$.\n",
       "\n",
       "Let's demonstrate with a small example. Suppose we have a node with 10 instances, 7 of which are class A and 3 are class B.\n",
       "\n",
       "```python\n",
       "import numpy as np\n",
       "\n",
       "# Proportions of each class\n",
       "p_a = 7/10\n",
       "p_b = 3/10\n",
       "\n",
       "# Calculate Gini impurity\n",
       "gini_impurity = 1 - (p_a**2 + p_b**2)\n",
       "print(f\"Gini Impurity: {gini_impurity:.3f}\")\n",
       "```\n",
       "\n",
       "### Entropy\n",
       "\n",
       "Entropy is another measure of impurity based on information theory. It quantifies the amount of randomness or uncertainty in a set of data. A lower entropy indicates less uncertainty and a purer subset. An entropy of 0 means the subset is perfectly pure.\n",
       "\n",
       "The formula for entropy is:\n",
       "\n",
       "$Entropy(D) = - \\sum_{i=1}^{c} p_i \\log_2(p_i)$\n",
       "\n",
       "Where:\n",
       "*   $D$ is the dataset or subset of data at a node.\n",
       "*   $c$ is the number of classes.\n",
       "*   $p_i$ is the proportion of instances belonging to class $i$ in the dataset $D$.\n",
       "\n",
       "Let's use the same example as above (7 instances of class A and 3 instances of class B).\n",
       "\n",
       "```python\n",
       "import numpy as np\n",
       "\n",
       "# Proportions of each class\n",
       "p_a = 7/10\n",
       "p_b = 3/10\n",
       "\n",
       "# Calculate Entropy (handle log2(0) if any p_i is 0)\n",
       "entropy = - (p_a * np.log2(p_a) + p_b * np.log2(p_b) if p_a > 0 and p_b > 0 else 0)\n",
       "print(f\"Entropy: {entropy:.3f}\")\n",
       "```\n",
       "\n",
       "### Using Gini Impurity and Entropy for Splitting\n",
       "\n",
       "Decision trees use these impurity measures to determine the best feature and split point at each node. The algorithm calculates the impurity of the current node and then evaluates the potential impurity reduction (information gain) for different possible splits based on various features. The split that results in the largest reduction in impurity (or the highest information gain) is chosen as the best split for that node. This process is repeated recursively for the child nodes until a stopping criterion is met.\n"
      ],
      "text/plain": [
       "<IPython.core.display.Markdown object>"
      ]
     },
     "metadata": {},
     "output_type": "display_data"
    }
   ],
   "source": [
    "%%markdown\n",
    "## Measures of Impurity: Gini Impurity and Entropy\n",
    "\n",
    "Decision trees use measures of impurity to evaluate the quality of a split at each node. The goal is to find the split that minimizes the impurity of the resulting child nodes. Two common measures of impurity are Gini impurity and entropy.\n",
    "\n",
    "### Gini Impurity\n",
    "\n",
    "Gini impurity measures the probability of incorrectly classifying a randomly chosen element in the dataset if it were randomly labeled according to the distribution of labels in the subset. A Gini impurity of 0 indicates a perfectly pure subset (all elements belong to the same class).\n",
    "\n",
    "The formula for Gini impurity is:\n",
    "\n",
    "$Gini(D) = 1 - \\sum_{i=1}^{c} (p_i)^2$\n",
    "\n",
    "Where:\n",
    "*   $D$ is the dataset or subset of data at a node.\n",
    "*   $c$ is the number of classes.\n",
    "*   $p_i$ is the proportion of instances belonging to class $i$ in the dataset $D$.\n",
    "\n",
    "Let's demonstrate with a small example. Suppose we have a node with 10 instances, 7 of which are class A and 3 are class B.\n",
    "\n",
    "```python\n",
    "import numpy as np\n",
    "\n",
    "# Proportions of each class\n",
    "p_a = 7/10\n",
    "p_b = 3/10\n",
    "\n",
    "# Calculate Gini impurity\n",
    "gini_impurity = 1 - (p_a**2 + p_b**2)\n",
    "print(f\"Gini Impurity: {gini_impurity:.3f}\")\n",
    "```\n",
    "\n",
    "### Entropy\n",
    "\n",
    "Entropy is another measure of impurity based on information theory. It quantifies the amount of randomness or uncertainty in a set of data. A lower entropy indicates less uncertainty and a purer subset. An entropy of 0 means the subset is perfectly pure.\n",
    "\n",
    "The formula for entropy is:\n",
    "\n",
    "$Entropy(D) = - \\sum_{i=1}^{c} p_i \\log_2(p_i)$\n",
    "\n",
    "Where:\n",
    "*   $D$ is the dataset or subset of data at a node.\n",
    "*   $c$ is the number of classes.\n",
    "*   $p_i$ is the proportion of instances belonging to class $i$ in the dataset $D$.\n",
    "\n",
    "Let's use the same example as above (7 instances of class A and 3 instances of class B).\n",
    "\n",
    "```python\n",
    "import numpy as np\n",
    "\n",
    "# Proportions of each class\n",
    "p_a = 7/10\n",
    "p_b = 3/10\n",
    "\n",
    "# Calculate Entropy (handle log2(0) if any p_i is 0)\n",
    "entropy = - (p_a * np.log2(p_a) + p_b * np.log2(p_b) if p_a > 0 and p_b > 0 else 0)\n",
    "print(f\"Entropy: {entropy:.3f}\")\n",
    "```\n",
    "\n",
    "### Using Gini Impurity and Entropy for Splitting\n",
    "\n",
    "Decision trees use these impurity measures to determine the best feature and split point at each node. The algorithm calculates the impurity of the current node and then evaluates the potential impurity reduction (information gain) for different possible splits based on various features. The split that results in the largest reduction in impurity (or the highest information gain) is chosen as the best split for that node. This process is repeated recursively for the child nodes until a stopping criterion is met.\n"
   ]
  },
  {
   "cell_type": "code",
   "execution_count": 3,
   "id": "4009f6b3-6bca-4fb3-bc42-8de2912e4d55",
   "metadata": {},
   "outputs": [
    {
     "name": "stdout",
     "output_type": "stream",
     "text": [
      "Decision Tree model trained successfully.\n"
     ]
    }
   ],
   "source": [
    "import pandas as pd\n",
    "from sklearn.tree import DecisionTreeClassifier\n",
    "from sklearn.model_selection import train_test_split\n",
    "\n",
    "# 2. Create a sample dataset\n",
    "data = {'feature1': [1, 2, 3, 4, 5, 6, 7, 8, 9, 10],\n",
    "        'feature2': [10, 9, 8, 7, 6, 5, 4, 3, 2, 1],\n",
    "        'target': [0, 0, 0, 0, 1, 1, 1, 1, 1, 1]}\n",
    "df = pd.DataFrame(data)\n",
    "\n",
    "# 3. Separate features (X) and target (y)\n",
    "X = df[['feature1', 'feature2']]\n",
    "y = df['target']\n",
    "\n",
    "# 4. Split the dataset into training and testing sets\n",
    "X_train, X_test, y_train, y_test = train_test_split(X, y, test_size=0.2, random_state=42)\n",
    "\n",
    "# 5. Instantiate a DecisionTreeClassifier\n",
    "model = DecisionTreeClassifier()\n",
    "\n",
    "# 6. Train the decision tree model\n",
    "model.fit(X_train, y_train)\n",
    "\n",
    "print(\"Decision Tree model trained successfully.\")"
   ]
  },
  {
   "cell_type": "code",
   "execution_count": 4,
   "id": "9b51d20a-7b6e-4411-b35d-be78da356cec",
   "metadata": {},
   "outputs": [
    {
     "data": {
      "text/markdown": [
       "## Model Validation and Error Metrics\n",
       "\n",
       "After training a decision tree model, it's crucial to evaluate its performance to understand how well it generalizes to unseen data. This is where model validation comes in.\n",
       "\n",
       "### Model Validation Techniques\n",
       "\n",
       "**1. Train-Test Split:**\n",
       "The simplest validation technique is splitting the dataset into a training set and a testing set. The model is trained on the training set and evaluated on the testing set. This gives an estimate of how the model will perform on new, unseen data. A common split ratio is 80% for training and 20% for testing.\n",
       "\n",
       "**2. Cross-Validation:**\n",
       "Cross-validation is a more robust technique that reduces the variability of the performance estimate. In k-fold cross-validation, the dataset is divided into *k* equal-sized folds. The model is trained on *k-1* folds and validated on the remaining fold. This process is repeated *k* times, with each fold serving as the validation set once. The final performance is the average of the performance across all *k* folds. This provides a more reliable estimate of the model's performance.\n",
       "\n",
       "### Common Classification Error Metrics\n",
       "\n",
       "For classification tasks, several metrics are used to evaluate the model's performance. These metrics are often derived from the **confusion matrix**, which summarizes the results of the prediction by showing the counts of true positive, true negative, false positive, and false negative predictions.\n",
       "\n",
       "*   **True Positive (TP):** The number of instances correctly predicted as positive.\n",
       "*   **True Negative (TN):** The number of instances correctly predicted as negative.\n",
       "*   **False Positive (FP):** The number of instances incorrectly predicted as positive (Type I error).\n",
       "*   **False Negative (FN):** The number of instances incorrectly predicted as negative (Type II error).\n",
       "\n",
       "Here are some common metrics:\n",
       "\n",
       "**1. Accuracy:**\n",
       "Accuracy measures the overall proportion of correct predictions.\n",
       "\n",
       "Formula: $Accuracy = \\frac{TP + TN}{TP + TN + FP + FN}$\n",
       "\n",
       "**2. Precision:**\n",
       "Precision measures the proportion of correctly predicted positive instances among all instances predicted as positive. It is a measure of the model's exactness.\n",
       "\n",
       "Formula: $Precision = \\frac{TP}{TP + FP}$\n",
       "\n",
       "**3. Recall (Sensitivity or True Positive Rate):**\n",
       "Recall measures the proportion of correctly predicted positive instances among all actual positive instances. It is a measure of the model's completeness.\n",
       "\n",
       "Formula: $Recall = \\frac{TP}{TP + FN}$\n",
       "\n",
       "**4. F1-Score:**\n",
       "The F1-score is the harmonic mean of precision and recall. It provides a single score that balances both precision and recall.\n",
       "\n",
       "Formula: $F1-Score = 2 \\times \\frac{Precision \\times Recall}{Precision + Recall}$\n",
       "\n",
       "These metrics provide different perspectives on the model's performance and are chosen based on the specific goals of the classification task. For example, in a medical diagnosis scenario, recall might be more important to minimize false negatives, while in a spam detection scenario, precision might be more important to minimize false positives.\n"
      ],
      "text/plain": [
       "<IPython.core.display.Markdown object>"
      ]
     },
     "metadata": {},
     "output_type": "display_data"
    }
   ],
   "source": [
    "%%markdown\n",
    "## Model Validation and Error Metrics\n",
    "\n",
    "After training a decision tree model, it's crucial to evaluate its performance to understand how well it generalizes to unseen data. This is where model validation comes in.\n",
    "\n",
    "### Model Validation Techniques\n",
    "\n",
    "**1. Train-Test Split:**\n",
    "The simplest validation technique is splitting the dataset into a training set and a testing set. The model is trained on the training set and evaluated on the testing set. This gives an estimate of how the model will perform on new, unseen data. A common split ratio is 80% for training and 20% for testing.\n",
    "\n",
    "**2. Cross-Validation:**\n",
    "Cross-validation is a more robust technique that reduces the variability of the performance estimate. In k-fold cross-validation, the dataset is divided into *k* equal-sized folds. The model is trained on *k-1* folds and validated on the remaining fold. This process is repeated *k* times, with each fold serving as the validation set once. The final performance is the average of the performance across all *k* folds. This provides a more reliable estimate of the model's performance.\n",
    "\n",
    "### Common Classification Error Metrics\n",
    "\n",
    "For classification tasks, several metrics are used to evaluate the model's performance. These metrics are often derived from the **confusion matrix**, which summarizes the results of the prediction by showing the counts of true positive, true negative, false positive, and false negative predictions.\n",
    "\n",
    "*   **True Positive (TP):** The number of instances correctly predicted as positive.\n",
    "*   **True Negative (TN):** The number of instances correctly predicted as negative.\n",
    "*   **False Positive (FP):** The number of instances incorrectly predicted as positive (Type I error).\n",
    "*   **False Negative (FN):** The number of instances incorrectly predicted as negative (Type II error).\n",
    "\n",
    "Here are some common metrics:\n",
    "\n",
    "**1. Accuracy:**\n",
    "Accuracy measures the overall proportion of correct predictions.\n",
    "\n",
    "Formula: $Accuracy = \\frac{TP + TN}{TP + TN + FP + FN}$\n",
    "\n",
    "**2. Precision:**\n",
    "Precision measures the proportion of correctly predicted positive instances among all instances predicted as positive. It is a measure of the model's exactness.\n",
    "\n",
    "Formula: $Precision = \\frac{TP}{TP + FP}$\n",
    "\n",
    "**3. Recall (Sensitivity or True Positive Rate):**\n",
    "Recall measures the proportion of correctly predicted positive instances among all actual positive instances. It is a measure of the model's completeness.\n",
    "\n",
    "Formula: $Recall = \\frac{TP}{TP + FN}$\n",
    "\n",
    "**4. F1-Score:**\n",
    "The F1-score is the harmonic mean of precision and recall. It provides a single score that balances both precision and recall.\n",
    "\n",
    "Formula: $F1-Score = 2 \\times \\frac{Precision \\times Recall}{Precision + Recall}$\n",
    "\n",
    "These metrics provide different perspectives on the model's performance and are chosen based on the specific goals of the classification task. For example, in a medical diagnosis scenario, recall might be more important to minimize false negatives, while in a spam detection scenario, precision might be more important to minimize false positives."
   ]
  },
  {
   "cell_type": "code",
   "execution_count": 5,
   "id": "4e5a904b-6988-4e25-85b1-f372176e8c0d",
   "metadata": {},
   "outputs": [
    {
     "name": "stdout",
     "output_type": "stream",
     "text": [
      "Accuracy: 1.000\n",
      "Precision: 1.000\n",
      "Recall: 1.000\n",
      "F1-score: 1.000\n"
     ]
    }
   ],
   "source": [
    "from sklearn.metrics import accuracy_score, precision_score, recall_score, f1_score\n",
    "\n",
    "# Make predictions on the test set\n",
    "y_pred = model.predict(X_test)\n",
    "\n",
    "# Calculate evaluation metrics\n",
    "accuracy = accuracy_score(y_test, y_pred)\n",
    "precision = precision_score(y_test, y_pred)\n",
    "recall = recall_score(y_test, y_pred)\n",
    "f1 = f1_score(y_test, y_pred)\n",
    "\n",
    "# Print the metrics\n",
    "print(f\"Accuracy: {accuracy:.3f}\")\n",
    "print(f\"Precision: {precision:.3f}\")\n",
    "print(f\"Recall: {recall:.3f}\")\n",
    "print(f\"F1-score: {f1:.3f}\")"
   ]
  },
  {
   "cell_type": "code",
   "execution_count": 6,
   "id": "bb6b17ff-9527-44e9-8d8b-d419f74a1407",
   "metadata": {},
   "outputs": [
    {
     "data": {
      "text/markdown": [
       "## Confusion Matrix\n",
       "\n",
       "The confusion matrix is a table that is often used to describe the performance of a classification model on a set of test data for which the true values are known. It allows visualization of the performance of an algorithm, often used in supervised learning.\n",
       "\n",
       "The structure of a confusion matrix for a binary classification problem is as follows:\n",
       "\n",
       "|                | Predicted Positive | Predicted Negative |\n",
       "| :------------- | :----------------- | :----------------- |\n",
       "| **Actual Positive** | True Positive (TP) | False Negative (FN) |\n",
       "| **Actual Negative** | False Positive (FP) | True Negative (TN) |\n",
       "\n",
       "Here's what each term represents:\n",
       "\n",
       "*   **True Positive (TP):** The number of instances where the model correctly predicted the positive class.\n",
       "*   **True Negative (TN):** The number of instances where the model correctly predicted the negative class.\n",
       "*   **False Positive (FP):** The number of instances where the model incorrectly predicted the positive class (Type I error). This is also known as a \"false alarm.\"\n",
       "*   **False Negative (FN):** The number of instances where the model incorrectly predicted the negative class (Type II error). This is also known as a \"miss.\"\n",
       "\n",
       "The confusion matrix provides a detailed breakdown of correct and incorrect predictions for each class, which is more informative than just looking at overall accuracy, especially when dealing with imbalanced datasets. From the confusion matrix, we can calculate various evaluation metrics like precision, recall, and F1-score, as discussed earlier.\n"
      ],
      "text/plain": [
       "<IPython.core.display.Markdown object>"
      ]
     },
     "metadata": {},
     "output_type": "display_data"
    }
   ],
   "source": [
    "%%markdown\n",
    "## Confusion Matrix\n",
    "\n",
    "The confusion matrix is a table that is often used to describe the performance of a classification model on a set of test data for which the true values are known. It allows visualization of the performance of an algorithm, often used in supervised learning.\n",
    "\n",
    "The structure of a confusion matrix for a binary classification problem is as follows:\n",
    "\n",
    "|                | Predicted Positive | Predicted Negative |\n",
    "| :------------- | :----------------- | :----------------- |\n",
    "| **Actual Positive** | True Positive (TP) | False Negative (FN) |\n",
    "| **Actual Negative** | False Positive (FP) | True Negative (TN) |\n",
    "\n",
    "Here's what each term represents:\n",
    "\n",
    "*   **True Positive (TP):** The number of instances where the model correctly predicted the positive class.\n",
    "*   **True Negative (TN):** The number of instances where the model correctly predicted the negative class.\n",
    "*   **False Positive (FP):** The number of instances where the model incorrectly predicted the positive class (Type I error). This is also known as a \"false alarm.\"\n",
    "*   **False Negative (FN):** The number of instances where the model incorrectly predicted the negative class (Type II error). This is also known as a \"miss.\"\n",
    "\n",
    "The confusion matrix provides a detailed breakdown of correct and incorrect predictions for each class, which is more informative than just looking at overall accuracy, especially when dealing with imbalanced datasets. From the confusion matrix, we can calculate various evaluation metrics like precision, recall, and F1-score, as discussed earlier."
   ]
  },
  {
   "cell_type": "code",
   "execution_count": 7,
   "id": "efc9aaf6-286a-4344-90eb-fbfd3343afca",
   "metadata": {},
   "outputs": [
    {
     "data": {
      "image/png": "[encoded data removed]",
      "text/plain": [
       "<Figure size 600x400 with 2 Axes>"
      ]
     },
     "metadata": {},
     "output_type": "display_data"
    },
    {
     "name": "stdout",
     "output_type": "stream",
     "text": [
      "Confusion Matrix:\n",
      "[[1 0]\n",
      " [0 1]]\n",
      "\n",
      "Interpretation:\n",
      "True Positives (TP): 1 - The model correctly predicted 1 positive instances.\n",
      "True Negatives (TN): 1 - The model correctly predicted 1 negative instances.\n",
      "False Positives (FP): 0 - The model incorrectly predicted 0 negative instances as positive.\n",
      "False Negatives (FN): 0 - The model incorrectly predicted 0 positive instances as negative.\n"
     ]
    }
   ],
   "source": [
    "from sklearn.metrics import confusion_matrix\n",
    "import matplotlib.pyplot as plt\n",
    "import seaborn as sns\n",
    "\n",
    "# 3. Calculate the confusion matrix\n",
    "cm = confusion_matrix(y_test, y_pred)\n",
    "\n",
    "# 4. Create a visualization of the confusion matrix\n",
    "plt.figure(figsize=(6, 4))\n",
    "sns.heatmap(cm, annot=True, fmt='d', cmap='Blues', xticklabels=['Predicted Negative', 'Predicted Positive'], yticklabels=['Actual Negative', 'Actual Positive'])\n",
    "plt.xlabel('Predicted Label')\n",
    "plt.ylabel('True Label')\n",
    "plt.title('Confusion Matrix')\n",
    "plt.show()\n",
    "\n",
    "# 5. Briefly interpret the results\n",
    "print(\"Confusion Matrix:\")\n",
    "print(cm)\n",
    "print(\"\\nInterpretation:\")\n",
    "print(f\"True Positives (TP): {cm[1, 1]} - The model correctly predicted {cm[1, 1]} positive instances.\")\n",
    "print(f\"True Negatives (TN): {cm[0, 0]} - The model correctly predicted {cm[0, 0]} negative instances.\")\n",
    "print(f\"False Positives (FP): {cm[0, 1]} - The model incorrectly predicted {cm[0, 1]} negative instances as positive.\")\n",
    "print(f\"False Negatives (FN): {cm[1, 0]} - The model incorrectly predicted {cm[1, 0]} positive instances as negative.\")"
   ]
  },
  {
   "cell_type": "code",
   "execution_count": 8,
   "id": "b25f75a0-4452-455e-8564-18eb2d88c53a",
   "metadata": {},
   "outputs": [
    {
     "data": {
      "text/markdown": [
       "## Feature Importance\n",
       "\n",
       "Feature importance in decision trees refers to the relative importance of each feature in the dataset for making predictions. It indicates how much each feature contributes to reducing impurity (like Gini impurity or entropy) across all splits in the tree. Features that lead to larger impurity reductions are considered more important.\n",
       "\n",
       "Decision trees in scikit-learn calculate feature importance as the normalized total reduction of the criterion (Gini impurity or entropy) brought by that feature. The importance of a feature is calculated as the sum of the impurity reductions that feature brings to each node it splits, weighted by the proportion of samples at that node. The feature importances are then normalized so that their sum is 1.\n",
       "\n",
       "Understanding feature importance can be valuable for:\n",
       "\n",
       "*   **Feature Selection:** Identifying and potentially removing less important features to simplify the model and prevent overfitting.\n",
       "*   **Model Interpretation:** Gaining insights into which features are the most influential in the decision-making process of the tree.\n",
       "*   **Domain Understanding:** Discovering important factors or predictors in the underlying data.\n"
      ],
      "text/plain": [
       "<IPython.core.display.Markdown object>"
      ]
     },
     "metadata": {},
     "output_type": "display_data"
    }
   ],
   "source": [
    "%%markdown\n",
    "## Feature Importance\n",
    "\n",
    "Feature importance in decision trees refers to the relative importance of each feature in the dataset for making predictions. It indicates how much each feature contributes to reducing impurity (like Gini impurity or entropy) across all splits in the tree. Features that lead to larger impurity reductions are considered more important.\n",
    "\n",
    "Decision trees in scikit-learn calculate feature importance as the normalized total reduction of the criterion (Gini impurity or entropy) brought by that feature. The importance of a feature is calculated as the sum of the impurity reductions that feature brings to each node it splits, weighted by the proportion of samples at that node. The feature importances are then normalized so that their sum is 1.\n",
    "\n",
    "Understanding feature importance can be valuable for:\n",
    "\n",
    "*   **Feature Selection:** Identifying and potentially removing less important features to simplify the model and prevent overfitting.\n",
    "*   **Model Interpretation:** Gaining insights into which features are the most influential in the decision-making process of the tree.\n",
    "*   **Domain Understanding:** Discovering important factors or predictors in the underlying data."
   ]
  },
  {
   "cell_type": "code",
   "execution_count": 9,
   "id": "780592f4-18f1-467a-815a-aaea0918160e",
   "metadata": {},
   "outputs": [
    {
     "data": {
      "image/png": "[encoded data removed]",
      "text/plain": [
       "<Figure size 800x600 with 1 Axes>"
      ]
     },
     "metadata": {},
     "output_type": "display_data"
    },
    {
     "name": "stdout",
     "output_type": "stream",
     "text": [
      "Feature Importances (sorted):\n",
      "feature2    1.0\n",
      "feature1    0.0\n",
      "dtype: float64\n"
     ]
    }
   ],
   "source": [
    "import pandas as pd\n",
    "import matplotlib.pyplot as plt\n",
    "import seaborn as sns\n",
    "\n",
    "# Get feature importances from the trained model\n",
    "feature_importances = model.feature_importances_\n",
    "\n",
    "# Create a pandas Series for better visualization and sorting\n",
    "feature_names = X_train.columns\n",
    "importance_series = pd.Series(feature_importances, index=feature_names)\n",
    "\n",
    "# Sort the features by importance in descending order\n",
    "sorted_importance = importance_series.sort_values(ascending=False)\n",
    "\n",
    "# Generate a bar plot to visualize the feature importances\n",
    "plt.figure(figsize=(8, 6))\n",
    "sns.barplot(x=sorted_importance.values, y=sorted_importance.index)\n",
    "plt.xlabel('Importance')\n",
    "plt.ylabel('Feature')\n",
    "plt.title('Feature Importances in Decision Tree')\n",
    "plt.show()\n",
    "\n",
    "# Print the feature importances\n",
    "print(\"Feature Importances (sorted):\")\n",
    "print(sorted_importance)"
   ]
  },
  {
   "cell_type": "code",
   "execution_count": 10,
   "id": "c6fae59c-528f-4b16-ab0d-d94b49007255",
   "metadata": {},
   "outputs": [
    {
     "data": {
      "text/markdown": [
       "## ROC Curve and AUC\n",
       "\n",
       "The Receiver Operating Characteristic (ROC) curve is a graphical plot that illustrates the diagnostic ability of a binary classifier system as its discrimination threshold is varied. It is created by plotting the True Positive Rate (TPR) against the False Positive Rate (FPR) at various threshold settings.\n",
       "\n",
       "*   **True Positive Rate (TPR):** Also known as Sensitivity or Recall, it is the proportion of actual positive instances that are correctly identified by the model. $TPR = \\frac{TP}{TP + FN}$.\n",
       "*   **False Positive Rate (FPR):** It is the proportion of actual negative instances that are incorrectly identified as positive by the model. $FPR = \\frac{FP}{TN + FP}$.\n",
       "\n",
       "The **Area Under the ROC Curve (AUC)** is a single scalar value that summarizes the overall performance of a binary classifier. It represents the probability that the model ranks a randomly chosen positive instance higher than a randomly chosen negative instance. An AUC of 1.0 indicates a perfect classifier, while an AUC of 0.5 indicates a classifier no better than random guessing. A higher AUC generally indicates a better-performing model.\n",
       "\n",
       "The ROC curve helps visualize the trade-off between the True Positive Rate and the False Positive Rate at different threshold levels. By examining the curve, we can choose a threshold that balances these two rates according to the specific needs of the application. The AUC provides a single metric to compare the performance of different models, regardless of the chosen threshold.\n"
      ],
      "text/plain": [
       "<IPython.core.display.Markdown object>"
      ]
     },
     "metadata": {},
     "output_type": "display_data"
    }
   ],
   "source": [
    "%%markdown\n",
    "## ROC Curve and AUC\n",
    "\n",
    "The Receiver Operating Characteristic (ROC) curve is a graphical plot that illustrates the diagnostic ability of a binary classifier system as its discrimination threshold is varied. It is created by plotting the True Positive Rate (TPR) against the False Positive Rate (FPR) at various threshold settings.\n",
    "\n",
    "*   **True Positive Rate (TPR):** Also known as Sensitivity or Recall, it is the proportion of actual positive instances that are correctly identified by the model. $TPR = \\frac{TP}{TP + FN}$.\n",
    "*   **False Positive Rate (FPR):** It is the proportion of actual negative instances that are incorrectly identified as positive by the model. $FPR = \\frac{FP}{TN + FP}$.\n",
    "\n",
    "The **Area Under the ROC Curve (AUC)** is a single scalar value that summarizes the overall performance of a binary classifier. It represents the probability that the model ranks a randomly chosen positive instance higher than a randomly chosen negative instance. An AUC of 1.0 indicates a perfect classifier, while an AUC of 0.5 indicates a classifier no better than random guessing. A higher AUC generally indicates a better-performing model.\n",
    "\n",
    "The ROC curve helps visualize the trade-off between the True Positive Rate and the False Positive Rate at different threshold levels. By examining the curve, we can choose a threshold that balances these two rates according to the specific needs of the application. The AUC provides a single metric to compare the performance of different models, regardless of the chosen threshold."
   ]
  },
  {
   "cell_type": "code",
   "execution_count": 11,
   "id": "1d02c6e1-807c-4477-b6b3-f0c3b96bf11c",
   "metadata": {},
   "outputs": [
    {
     "data": {
      "image/png": "[encoded data removed]",
      "text/plain": [
       "<Figure size 800x600 with 1 Axes>"
      ]
     },
     "metadata": {},
     "output_type": "display_data"
    },
    {
     "name": "stdout",
     "output_type": "stream",
     "text": [
      "AUC Score: 1.000\n"
     ]
    }
   ],
   "source": [
    "from sklearn.metrics import roc_curve, auc\n",
    "import matplotlib.pyplot as plt\n",
    "\n",
    "# Get the predicted probabilities for the positive class\n",
    "# The model.predict_proba() method returns the probability of each class.\n",
    "# We are interested in the probability of the positive class (usually the second column).\n",
    "y_prob = model.predict_proba(X_test)[:, 1]\n",
    "\n",
    "# Calculate the ROC curve\n",
    "fpr, tpr, thresholds = roc_curve(y_test, y_prob)\n",
    "\n",
    "# Calculate the AUC score\n",
    "roc_auc = auc(fpr, tpr)\n",
    "\n",
    "# Plot the ROC curve\n",
    "plt.figure(figsize=(8, 6))\n",
    "plt.plot(fpr, tpr, color='darkorange', lw=2, label='ROC curve (area = %0.2f)' % roc_auc)\n",
    "plt.plot([0, 1], [0, 1], color='navy', lw=2, linestyle='--')\n",
    "plt.xlim([0.0, 1.0])\n",
    "plt.ylim([0.0, 1.05])\n",
    "plt.xlabel('False Positive Rate (FPR)')\n",
    "plt.ylabel('True Positive Rate (TPR)')\n",
    "plt.title('Receiver Operating Characteristic (ROC) Curve')\n",
    "plt.legend(loc=\"lower right\")\n",
    "plt.show()\n",
    "\n",
    "# Print the AUC score\n",
    "print(f\"AUC Score: {roc_auc:.3f}\")"
   ]
  },
  {
   "cell_type": "code",
   "execution_count": 12,
   "id": "502aae78-0bab-4e02-b736-e7b9aeb91d12",
   "metadata": {},
   "outputs": [
    {
     "data": {
      "text/markdown": [
       "## Hyperparameter Tuning\n",
       "\n",
       "Hyperparameter tuning is the process of finding the optimal set of hyperparameters for a machine learning model that results in the best performance on a given dataset. Unlike model parameters, which are learned from the data (e.g., the split points and leaf values in a decision tree), hyperparameters are set *before* the training process begins.\n",
       "\n",
       "### Why Hyperparameter Tuning is Important for Decision Trees\n",
       "\n",
       "Decision trees have several hyperparameters that significantly influence their structure and performance. Choosing the right values for these hyperparameters can prevent common issues like overfitting and underfitting:\n",
       "\n",
       "*   **`max_depth`:** Controls the maximum depth of the tree. A very deep tree can easily overfit by learning the training data too well, including noise. A shallow tree might underfit by not capturing complex patterns.\n",
       "*   **`min_samples_split`:** The minimum number of samples required to split an internal node. Higher values prevent the tree from creating splits on very small subsets of data, which can help reduce overfitting.\n",
       "*   **`min_samples_leaf`:** The minimum number of samples required to be at a leaf node. Similar to `min_samples_split`, this prevents the creation of leaves with very few instances, contributing to generalization.\n",
       "*   **`criterion`:** The function to measure the quality of a split (e.g., 'gini' for Gini impurity or 'entropy' for information gain). The choice of criterion can sometimes impact performance, though often the difference is not substantial.\n",
       "\n",
       "Finding the right combination of these hyperparameters is crucial for building a decision tree that generalizes well to unseen data.\n",
       "\n",
       "### Common Hyperparameter Tuning Techniques\n",
       "\n",
       "Several techniques exist for hyperparameter tuning. Two widely used methods are:\n",
       "\n",
       "**1. GridSearchCV:**\n",
       "GridSearchCV exhaustively searches over a specified range of hyperparameter values (a grid). For each combination of hyperparameters in the grid, it trains and evaluates the model using cross-validation. The combination of hyperparameters that yields the best cross-validation score is selected as the optimal set. While thorough, GridSearchCV can be computationally expensive, especially with a large number of hyperparameters or a wide range of values.\n",
       "\n",
       "**2. RandomizedSearchCV:**\n",
       "RandomizedSearchCV is an alternative to GridSearchCV that samples a fixed number of hyperparameter combinations from specified distributions. This can be more computationally efficient than GridSearchCV, especially when the search space is large, as it doesn't evaluate every possible combination. It is often a good strategy when you don't have a strong prior belief about the best hyperparameter values.\n",
       "\n",
       "Both techniques use cross-validation to evaluate each set of hyperparameters, providing a more reliable estimate of performance than a single train-test split.\n"
      ],
      "text/plain": [
       "<IPython.core.display.Markdown object>"
      ]
     },
     "metadata": {},
     "output_type": "display_data"
    }
   ],
   "source": [
    "%%markdown\n",
    "## Hyperparameter Tuning\n",
    "\n",
    "Hyperparameter tuning is the process of finding the optimal set of hyperparameters for a machine learning model that results in the best performance on a given dataset. Unlike model parameters, which are learned from the data (e.g., the split points and leaf values in a decision tree), hyperparameters are set *before* the training process begins.\n",
    "\n",
    "### Why Hyperparameter Tuning is Important for Decision Trees\n",
    "\n",
    "Decision trees have several hyperparameters that significantly influence their structure and performance. Choosing the right values for these hyperparameters can prevent common issues like overfitting and underfitting:\n",
    "\n",
    "*   **`max_depth`:** Controls the maximum depth of the tree. A very deep tree can easily overfit by learning the training data too well, including noise. A shallow tree might underfit by not capturing complex patterns.\n",
    "*   **`min_samples_split`:** The minimum number of samples required to split an internal node. Higher values prevent the tree from creating splits on very small subsets of data, which can help reduce overfitting.\n",
    "*   **`min_samples_leaf`:** The minimum number of samples required to be at a leaf node. Similar to `min_samples_split`, this prevents the creation of leaves with very few instances, contributing to generalization.\n",
    "*   **`criterion`:** The function to measure the quality of a split (e.g., 'gini' for Gini impurity or 'entropy' for information gain). The choice of criterion can sometimes impact performance, though often the difference is not substantial.\n",
    "\n",
    "Finding the right combination of these hyperparameters is crucial for building a decision tree that generalizes well to unseen data.\n",
    "\n",
    "### Common Hyperparameter Tuning Techniques\n",
    "\n",
    "Several techniques exist for hyperparameter tuning. Two widely used methods are:\n",
    "\n",
    "**1. GridSearchCV:**\n",
    "GridSearchCV exhaustively searches over a specified range of hyperparameter values (a grid). For each combination of hyperparameters in the grid, it trains and evaluates the model using cross-validation. The combination of hyperparameters that yields the best cross-validation score is selected as the optimal set. While thorough, GridSearchCV can be computationally expensive, especially with a large number of hyperparameters or a wide range of values.\n",
    "\n",
    "**2. RandomizedSearchCV:**\n",
    "RandomizedSearchCV is an alternative to GridSearchCV that samples a fixed number of hyperparameter combinations from specified distributions. This can be more computationally efficient than GridSearchCV, especially when the search space is large, as it doesn't evaluate every possible combination. It is often a good strategy when you don't have a strong prior belief about the best hyperparameter values.\n",
    "\n",
    "Both techniques use cross-validation to evaluate each set of hyperparameters, providing a more reliable estimate of performance than a single train-test split."
   ]
  },
  {
   "cell_type": "code",
   "execution_count": 15,
   "id": "67d97b2a-2a88-4149-ba55-00a66f0cbaa1",
   "metadata": {},
   "outputs": [
    {
     "name": "stderr",
     "output_type": "stream",
     "text": [
      "/opt/anaconda3/lib/python3.12/site-packages/sklearn/model_selection/_split.py:811: UserWarning: The least populated class in y has only 3 members, which is less than n_splits=5.\n",
      "  warnings.warn(\n"
     ]
    },
    {
     "name": "stdout",
     "output_type": "stream",
     "text": [
      "Best Hyperparameters found by GridSearchCV:\n",
      "{'criterion': 'gini', 'max_depth': 2, 'min_samples_leaf': 1, 'min_samples_split': 2}\n",
      "\n",
      "Best Cross-Validation Score:\n",
      "1.0\n"
     ]
    }
   ],
   "source": [
    "import pandas as pd\n",
    "from sklearn.tree import DecisionTreeClassifier\n",
    "from sklearn.model_selection import train_test_split, GridSearchCV\n",
    "\n",
    "# Create a sample dataset\n",
    "data = {'feature1': [1, 2, 3, 4, 5, 6, 7, 8, 9, 10],\n",
    "        'feature2': [10, 9, 8, 7, 6, 5, 4, 3, 2, 1],\n",
    "        'target': [0, 0, 0, 0, 1, 1, 1, 1, 1, 1]}\n",
    "df = pd.DataFrame(data)\n",
    "\n",
    "# Separate features (X) and target (y)\n",
    "X = df[['feature1', 'feature2']]\n",
    "y = df['target']\n",
    "\n",
    "# Split the dataset into training and testing sets\n",
    "X_train, X_test, y_train, y_test = train_test_split(X, y, test_size=0.2, random_state=42)\n",
    "\n",
    "# Define the parameter grid\n",
    "param_grid = {\n",
    "    'max_depth': [2, 3, 4, 5, 6, 7, 8, 9, 10],\n",
    "    'min_samples_split': [2, 5, 10, 15, 20],\n",
    "    'min_samples_leaf': [1, 2, 3, 4, 5],\n",
    "    'criterion': ['gini', 'entropy']\n",
    "}\n",
    "\n",
    "# Instantiate a DecisionTreeClassifier\n",
    "model = DecisionTreeClassifier()\n",
    "\n",
    "# Instantiate GridSearchCV\n",
    "grid_search = GridSearchCV(estimator=model, param_grid=param_grid, cv=5, scoring='accuracy')\n",
    "\n",
    "# Fit GridSearchCV to the training data\n",
    "grid_search.fit(X_train, y_train);\n",
    "\n",
    "# Print the best hyperparameters and best score\n",
    "print(\"Best Hyperparameters found by GridSearchCV:\")\n",
    "print(grid_search.best_params_)\n",
    "print(\"\\nBest Cross-Validation Score:\")\n",
    "print(grid_search.best_score_)"
   ]
  },
  {
   "cell_type": "code",
   "execution_count": 16,
   "id": "20293524-6edf-4ea0-b7be-4c0354764c4a",
   "metadata": {},
   "outputs": [
    {
     "data": {
      "text/markdown": [
       "## Conclusion\n",
       "\n",
       "In this discussion, we explored decision trees, a versatile and interpretable machine learning algorithm. We learned how they work by recursively partitioning data based on feature values to create a tree-like structure for making predictions.\n",
       "\n",
       "Key concepts such as **Gini impurity** and **entropy** were explained as fundamental measures used by decision trees to evaluate the quality of splits and guide the tree-building process towards creating purer subsets of data.\n",
       "\n",
       "We also highlighted the critical importance of **model validation** and **evaluation** techniques to assess a decision tree's performance on unseen data. Various **error metrics** like accuracy, precision, recall, and F1-score were introduced, along with the **confusion matrix**, which provides a detailed breakdown of prediction outcomes. The **ROC curve and AUC** were discussed as powerful tools for evaluating the performance of binary classifiers across different thresholds.\n",
       "\n",
       "Furthermore, we touched upon **feature importance**, which helps understand the influence of individual features on the model's decisions and can aid in feature selection and model interpretation. Finally, the role of **hyperparameter tuning**, using techniques like GridSearchCV, was explained as essential for optimizing the decision tree's performance and preventing issues like overfitting, leading to a model that generalizes better to new data.\n",
       "\n",
       "Decision trees are a powerful tool in the machine learning landscape, offering a balance of performance and interpretability, making them suitable for a wide range of classification and regression tasks.\n"
      ],
      "text/plain": [
       "<IPython.core.display.Markdown object>"
      ]
     },
     "metadata": {},
     "output_type": "display_data"
    }
   ],
   "source": [
    "%%markdown\n",
    "## Conclusion\n",
    "\n",
    "In this discussion, we explored decision trees, a versatile and interpretable machine learning algorithm. We learned how they work by recursively partitioning data based on feature values to create a tree-like structure for making predictions.\n",
    "\n",
    "Key concepts such as **Gini impurity** and **entropy** were explained as fundamental measures used by decision trees to evaluate the quality of splits and guide the tree-building process towards creating purer subsets of data.\n",
    "\n",
    "We also highlighted the critical importance of **model validation** and **evaluation** techniques to assess a decision tree's performance on unseen data. Various **error metrics** like accuracy, precision, recall, and F1-score were introduced, along with the **confusion matrix**, which provides a detailed breakdown of prediction outcomes. The **ROC curve and AUC** were discussed as powerful tools for evaluating the performance of binary classifiers across different thresholds.\n",
    "\n",
    "Furthermore, we touched upon **feature importance**, which helps understand the influence of individual features on the model's decisions and can aid in feature selection and model interpretation. Finally, the role of **hyperparameter tuning**, using techniques like GridSearchCV, was explained as essential for optimizing the decision tree's performance and preventing issues like overfitting, leading to a model that generalizes better to new data.\n",
    "\n",
    "Decision trees are a powerful tool in the machine learning landscape, offering a balance of performance and interpretability, making them suitable for a wide range of classification and regression tasks."
   ]
  }
 ],
 "metadata": {
  "kernelspec": {
   "display_name": "Python [conda env:base] *",
   "language": "python",
   "name": "conda-base-py"
  },
  "language_info": {
   "codemirror_mode": {
    "name": "ipython",
    "version": 3
   },
   "file_extension": ".py",
   "mimetype": "text/x-python",
   "name": "python",
   "nbconvert_exporter": "python",
   "pygments_lexer": "ipython3",
   "version": "3.12.4"
  }
 },
 "nbformat": 4,
 "nbformat_minor": 5
}
