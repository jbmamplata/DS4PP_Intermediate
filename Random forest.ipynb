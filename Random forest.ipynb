{
 "cells": [
  {
   "cell_type": "code",
   "execution_count": null,
   "metadata": {
    "id": "SQna2I8gRUcp"
   },
   "outputs": [],
   "source": []
  },
  {
   "cell_type": "markdown",
   "metadata": {
    "id": "269864f4"
   },
   "source": [
    "# Random forest"
   ]
  },
  {
   "cell_type": "markdown",
   "metadata": {
    "colab": {
     "base_uri": "https://localhost:8080/",
     "height": 633
    },
    "id": "bf4abf18",
    "outputId": "d6e590c8-7dd8-473c-d542-aa291f01b986"
   },
   "source": [
    "The Random Forest algorithm is a powerful and versatile machine learning method used for both classification and regression tasks. It belongs to the family of **ensemble learning** algorithms, which combine the predictions of multiple individual models to improve overall performance and robustness.\n",
    "\n",
    "At its core, a Random Forest is an ensemble of **decision trees**. Decision trees are simple yet effective models that make predictions by recursively partitioning the data based on feature values. However, individual decision trees can be prone to overfitting, meaning they might perform very well on the training data but poorly on unseen data.\n",
    "\n",
    "Random Forest addresses this limitation by employing two key techniques:\n",
    "\n",
    "1.  **Bagging (Bootstrap Aggregating):** This technique involves creating multiple subsets of the original training data by randomly sampling with replacement. Each decision tree in the forest is then trained independently on a different bootstrap sample. This introduces randomness into the training process and helps to reduce variance and prevent overfitting.\n",
    "\n",
    "2.  **Random Subspace (Feature Randomness):** In addition to using bootstrap samples of data, Random Forest also introduces randomness in the features considered at each split in a decision tree. Instead of considering all features, a random subset of features is selected at each node of the tree to find the best split. This further decorrelates the trees and makes the ensemble more robust.\n",
    "\n",
    "**How Predictions Are Made:**\n",
    "\n",
    "*   **For Classification:** When making a prediction for a new data point, each decision tree in the forest independently predicts the class label. The final prediction is then determined by a **majority vote** among all the trees. The class that receives the most votes is the predicted class.\n",
    "\n",
    "*   **For Regression:** For regression tasks, each decision tree predicts a numerical value. The final prediction is the **average** of the predictions from all the trees in the forest.\n",
    "\n",
    "**Advantages of Random Forest:**\n",
    "\n",
    "*   **High Accuracy:** Often provides high accuracy compared to individual decision trees and other algorithms.\n",
    "*   **Robust to Outliers and Noise:** The bagging and random subspace techniques make it less sensitive to outliers and noisy data.\n",
    "*   **Handles High-Dimensional Data:** Can effectively handle datasets with a large number of features.\n",
    "*   **Provides Feature Importance:** Can estimate the importance of each feature in making predictions.\n",
    "*   **Less Prone to Overfitting:** Compared to individual decision trees.\n",
    "\n",
    "**Disadvantages of Random Forest:**\n",
    "\n",
    "*   **Less Interpretable:** The ensemble nature makes it more difficult to interpret compared to a single decision tree.\n",
    "*   **Computationally More Expensive:** Training multiple trees can be computationally more intensive than training a single model.\n",
    "*   **Can be Biased Towards Features with More Categories:** In some cases, it might be biased towards features with a larger number of distinct values."
   ]
  },
  {
   "cell_type": "code",
   "execution_count": 2,
   "metadata": {},
   "outputs": [],
   "source": [
    "import pandas as pd\n",
    "from sklearn.datasets import fetch_california_housing"
   ]
  },
  {
   "cell_type": "markdown",
   "metadata": {
    "colab": {
     "base_uri": "https://localhost:8080/",
     "height": 126
    },
    "id": "5b431b85",
    "outputId": "64478ca8-8a65-4e20-ed23-77394cec8b3f"
   },
   "source": [
    "**Source:** The dataset contains data derived from the 1990 U.S. Census, relating to the median house values in California districts.\n",
    "\n",
    "**Instances and Features:**\n",
    "*   Number of Instances: 20,640\n",
    "*   Number of Features: 8 (numerical) + target variable\n",
    "\n",
    "**Features:**\n",
    "The dataset includes the following numerical features for each district:\n",
    "1.  `MedInc`: Median income in block group\n",
    "2.  `HouseAge`: Median house age in block group\n",
    "3.  `AveRooms`: Average number of rooms per household\n",
    "4.  `AveBedrms`: Average number of bedrooms per household\n",
    "5.  `Population`: Block group population\n",
    "6.  `AveOccup`: Average number of household members\n",
    "7.  `Latitude`: Block group latitude\n",
    "8.  `Longitude`: Block group longitude\n",
    "\n",
    "**Target Variable:**\n",
    "*   `MedHouseVal`: Median house value for California districts (in hundreds of thousands of dollars). This is a continuous numerical variable, making this a **regression** problem.\n",
    "\n",
    "**Suitability for Random Forest:**\n",
    "This dataset is suitable for demonstrating Random Forest regression because:\n",
    "*   It has a reasonable number of features (8), allowing us to explore feature importance.\n",
    "*   It is a regression task, which Random Forest can handle effectively.\n",
    "*   It is a widely used and well-understood dataset, making it easy to follow along.\n",
    "*   The features are numerical, which is directly compatible with Random Forest."
   ]
  },
  {
   "cell_type": "code",
   "execution_count": 3,
   "metadata": {
    "colab": {
     "base_uri": "https://localhost:8080/",
     "height": 546
    },
    "id": "cKmPBOiUSDQN",
    "outputId": "f15a9b8c-02d4-405e-cd4d-b3925407cafb"
   },
   "outputs": [
    {
     "data": {
      "text/markdown": [
       "## Dataset Explanation: California Housing Prices\n",
       "\n",
       "For this demonstration of Random Forest, we will use the **California Housing Prices** dataset. This dataset is a popular benchmark for regression tasks and is included in scikit-learn.\n",
       "\n",
       "**Source:** The dataset contains data derived from the 1990 U.S. Census, relating to the median house values in California districts.\n",
       "\n",
       "**Instances and Features:**\n",
       "*   Number of Instances: 20,640\n",
       "*   Number of Features: 8 (numerical) + target variable\n",
       "\n",
       "**Features:**\n",
       "The dataset includes the following numerical features for each district:\n",
       "1.  `MedInc`: Median income in block group\n",
       "2.  `HouseAge`: Median house age in block group\n",
       "3.  `AveRooms`: Average number of rooms per household\n",
       "4.  `AveBedrms`: Average number of bedrooms per household\n",
       "5.  `Population`: Block group population\n",
       "6.  `AveOccup`: Average number of household members\n",
       "7.  `Latitude`: Block group latitude\n",
       "8.  `Longitude`: Block group longitude\n",
       "\n",
       "**Target Variable:**\n",
       "*   `MedHouseVal`: Median house value for California districts (in hundreds of thousands of dollars). This is a continuous numerical variable, making this a **regression** problem.\n",
       "\n",
       "**Suitability for Random Forest:**\n",
       "This dataset is suitable for demonstrating Random Forest regression because:\n",
       "*   It has a reasonable number of features (8), allowing us to explore feature importance.\n",
       "*   It is a regression task, which Random Forest can handle effectively.\n",
       "*   It is a widely used and well-understood dataset, making it easy to follow along.\n",
       "*   The features are numerical, which is directly compatible with Random Forest.\n"
      ],
      "text/plain": [
       "<IPython.core.display.Markdown object>"
      ]
     },
     "metadata": {},
     "output_type": "display_data"
    }
   ],
   "source": [
    "%%markdown\n",
    "## Dataset Explanation: California Housing Prices\n",
    "\n",
    "For this demonstration of Random Forest, we will use the **California Housing Prices** dataset. This dataset is a popular benchmark for regression tasks and is included in scikit-learn.\n",
    "\n",
    "**Source:** The dataset contains data derived from the 1990 U.S. Census, relating to the median house values in California districts.\n",
    "\n",
    "**Instances and Features:**\n",
    "*   Number of Instances: 20,640\n",
    "*   Number of Features: 8 (numerical) + target variable\n",
    "\n",
    "**Features:**\n",
    "The dataset includes the following numerical features for each district:\n",
    "1.  `MedInc`: Median income in block group\n",
    "2.  `HouseAge`: Median house age in block group\n",
    "3.  `AveRooms`: Average number of rooms per household\n",
    "4.  `AveBedrms`: Average number of bedrooms per household\n",
    "5.  `Population`: Block group population\n",
    "6.  `AveOccup`: Average number of household members\n",
    "7.  `Latitude`: Block group latitude\n",
    "8.  `Longitude`: Block group longitude\n",
    "\n",
    "**Target Variable:**\n",
    "*   `MedHouseVal`: Median house value for California districts (in hundreds of thousands of dollars). This is a continuous numerical variable, making this a **regression** problem.\n",
    "\n",
    "**Suitability for Random Forest:**\n",
    "This dataset is suitable for demonstrating Random Forest regression because:\n",
    "*   It has a reasonable number of features (8), allowing us to explore feature importance.\n",
    "*   It is a regression task, which Random Forest can handle effectively.\n",
    "*   It is a widely used and well-understood dataset, making it easy to follow along.\n",
    "*   The features are numerical, which is directly compatible with Random Forest."
   ]
  },
  {
   "cell_type": "code",
   "execution_count": 3,
   "metadata": {},
   "outputs": [
    {
     "data": {
      "text/html": [
       "<div>\n",
       "<style scoped>\n",
       "    .dataframe tbody tr th:only-of-type {\n",
       "        vertical-align: middle;\n",
       "    }\n",
       "\n",
       "    .dataframe tbody tr th {\n",
       "        vertical-align: top;\n",
       "    }\n",
       "\n",
       "    .dataframe thead th {\n",
       "        text-align: right;\n",
       "    }\n",
       "</style>\n",
       "<table border=\"1\" class=\"dataframe\">\n",
       "  <thead>\n",
       "    <tr style=\"text-align: right;\">\n",
       "      <th></th>\n",
       "      <th>MedInc</th>\n",
       "      <th>HouseAge</th>\n",
       "      <th>AveRooms</th>\n",
       "      <th>AveBedrms</th>\n",
       "      <th>Population</th>\n",
       "      <th>AveOccup</th>\n",
       "      <th>Latitude</th>\n",
       "      <th>Longitude</th>\n",
       "      <th>MedHouseVal</th>\n",
       "    </tr>\n",
       "  </thead>\n",
       "  <tbody>\n",
       "    <tr>\n",
       "      <th>0</th>\n",
       "      <td>8.3252</td>\n",
       "      <td>41.0</td>\n",
       "      <td>6.984127</td>\n",
       "      <td>1.023810</td>\n",
       "      <td>322.0</td>\n",
       "      <td>2.555556</td>\n",
       "      <td>37.88</td>\n",
       "      <td>-122.23</td>\n",
       "      <td>4.526</td>\n",
       "    </tr>\n",
       "    <tr>\n",
       "      <th>1</th>\n",
       "      <td>8.3014</td>\n",
       "      <td>21.0</td>\n",
       "      <td>6.238137</td>\n",
       "      <td>0.971880</td>\n",
       "      <td>2401.0</td>\n",
       "      <td>2.109842</td>\n",
       "      <td>37.86</td>\n",
       "      <td>-122.22</td>\n",
       "      <td>3.585</td>\n",
       "    </tr>\n",
       "    <tr>\n",
       "      <th>2</th>\n",
       "      <td>7.2574</td>\n",
       "      <td>52.0</td>\n",
       "      <td>8.288136</td>\n",
       "      <td>1.073446</td>\n",
       "      <td>496.0</td>\n",
       "      <td>2.802260</td>\n",
       "      <td>37.85</td>\n",
       "      <td>-122.24</td>\n",
       "      <td>3.521</td>\n",
       "    </tr>\n",
       "    <tr>\n",
       "      <th>3</th>\n",
       "      <td>5.6431</td>\n",
       "      <td>52.0</td>\n",
       "      <td>5.817352</td>\n",
       "      <td>1.073059</td>\n",
       "      <td>558.0</td>\n",
       "      <td>2.547945</td>\n",
       "      <td>37.85</td>\n",
       "      <td>-122.25</td>\n",
       "      <td>3.413</td>\n",
       "    </tr>\n",
       "    <tr>\n",
       "      <th>4</th>\n",
       "      <td>3.8462</td>\n",
       "      <td>52.0</td>\n",
       "      <td>6.281853</td>\n",
       "      <td>1.081081</td>\n",
       "      <td>565.0</td>\n",
       "      <td>2.181467</td>\n",
       "      <td>37.85</td>\n",
       "      <td>-122.25</td>\n",
       "      <td>3.422</td>\n",
       "    </tr>\n",
       "  </tbody>\n",
       "</table>\n",
       "</div>"
      ],
      "text/plain": [
       "   MedInc  HouseAge  AveRooms  AveBedrms  Population  AveOccup  Latitude  \\\n",
       "0  8.3252      41.0  6.984127   1.023810       322.0  2.555556     37.88   \n",
       "1  8.3014      21.0  6.238137   0.971880      2401.0  2.109842     37.86   \n",
       "2  7.2574      52.0  8.288136   1.073446       496.0  2.802260     37.85   \n",
       "3  5.6431      52.0  5.817352   1.073059       558.0  2.547945     37.85   \n",
       "4  3.8462      52.0  6.281853   1.081081       565.0  2.181467     37.85   \n",
       "\n",
       "   Longitude  MedHouseVal  \n",
       "0    -122.23        4.526  \n",
       "1    -122.22        3.585  \n",
       "2    -122.24        3.521  \n",
       "3    -122.25        3.413  \n",
       "4    -122.25        3.422  "
      ]
     },
     "metadata": {},
     "output_type": "display_data"
    },
    {
     "name": "stdout",
     "output_type": "stream",
     "text": [
      "<class 'pandas.core.frame.DataFrame'>\n",
      "RangeIndex: 20640 entries, 0 to 20639\n",
      "Data columns (total 9 columns):\n",
      " #   Column       Non-Null Count  Dtype  \n",
      "---  ------       --------------  -----  \n",
      " 0   MedInc       20640 non-null  float64\n",
      " 1   HouseAge     20640 non-null  float64\n",
      " 2   AveRooms     20640 non-null  float64\n",
      " 3   AveBedrms    20640 non-null  float64\n",
      " 4   Population   20640 non-null  float64\n",
      " 5   AveOccup     20640 non-null  float64\n",
      " 6   Latitude     20640 non-null  float64\n",
      " 7   Longitude    20640 non-null  float64\n",
      " 8   MedHouseVal  20640 non-null  float64\n",
      "dtypes: float64(9)\n",
      "memory usage: 1.4 MB\n"
     ]
    },
    {
     "data": {
      "text/plain": [
       "None"
      ]
     },
     "metadata": {},
     "output_type": "display_data"
    }
   ],
   "source": [
    "# Load the California Housing dataset\n",
    "california = fetch_california_housing()\n",
    "df = pd.DataFrame(data=california.data, columns=california.feature_names)\n",
    "df['MedHouseVal'] = california.target\n",
    "\n",
    "# Display the first few rows\n",
    "display(df.head())\n",
    "\n",
    "# Display information about the DataFrame\n",
    "display(df.info())"
   ]
  },
  {
   "cell_type": "markdown",
   "metadata": {
    "id": "8d7fdea2"
   },
   "source": [
    "**Reasoning**:\n",
    "Add a markdown cell to explain the data preprocessing steps.\n",
    "\n"
   ]
  },
  {
   "cell_type": "markdown",
   "metadata": {
    "colab": {
     "base_uri": "https://localhost:8080/",
     "height": 233
    },
    "id": "9bf1636d",
    "outputId": "5d94b3a9-1d6d-480f-9ded-57bcc902fba0"
   },
   "source": [
    "## Data Preprocessing\n",
    "\n",
    "Before training the Random Forest model, it's essential to preprocess the data. This involves several steps to ensure the data is in a suitable format for the model. The key preprocessing steps we will perform are:\n",
    "\n",
    "1.  **Checking for Missing Values:** We will inspect the dataset to identify if any features have missing values. Handling missing values is crucial as most machine learning algorithms cannot work with them.\n",
    "2.  **Handling Categorical Features:** We will check if the dataset contains any categorical features that need to be converted into numerical representations using techniques like one-hot encoding.\n",
    "3.  **Splitting the Data:** We will divide the dataset into training and testing sets. The training set will be used to train the Random Forest model, and the testing set will be used to evaluate its performance on unseen data."
   ]
  },
  {
   "cell_type": "markdown",
   "metadata": {
    "id": "9f254b07"
   },
   "source": [
    "Check for missing values in the DataFrame and display the count of missing values per column.\n",
    "\n"
   ]
  },
  {
   "cell_type": "code",
   "execution_count": 4,
   "metadata": {
    "colab": {
     "base_uri": "https://localhost:8080/",
     "height": 385
    },
    "id": "f53c969d",
    "outputId": "e11b9e2d-954b-46e1-bca4-fad2c6cbf5f6"
   },
   "outputs": [
    {
     "data": {
      "text/plain": [
       "'Missing values per column:'"
      ]
     },
     "metadata": {},
     "output_type": "display_data"
    },
    {
     "data": {
      "text/plain": [
       "MedInc         0\n",
       "HouseAge       0\n",
       "AveRooms       0\n",
       "AveBedrms      0\n",
       "Population     0\n",
       "AveOccup       0\n",
       "Latitude       0\n",
       "Longitude      0\n",
       "MedHouseVal    0\n",
       "dtype: int64"
      ]
     },
     "metadata": {},
     "output_type": "display_data"
    }
   ],
   "source": [
    "missing_values = df.isnull().sum()\n",
    "display(\"Missing values per column:\")\n",
    "display(missing_values)"
   ]
  },
  {
   "cell_type": "markdown",
   "metadata": {
    "id": "b9852cc8"
   },
   "source": [
    "**Reasoning**:\n",
    "Add a markdown cell stating that categorical encoding is not required as there are no categorical features.\n",
    "\n"
   ]
  },
  {
   "cell_type": "markdown",
   "metadata": {
    "colab": {
     "base_uri": "https://localhost:8080/",
     "height": 107
    },
    "id": "62d50072",
    "outputId": "b2e42343-7383-4c54-acb1-0a466ecc5afe"
   },
   "source": [
    "## Handling Categorical Features\n",
    "\n",
    "Upon inspecting the dataset, we found that all features are numerical. Therefore, there are no categorical features that require encoding (e.g., one-hot encoding) before training the Random Forest model. This simplifies the preprocessing step."
   ]
  },
  {
   "cell_type": "code",
   "execution_count": 5,
   "metadata": {
    "colab": {
     "base_uri": "https://localhost:8080/",
     "height": 162
    },
    "id": "d20b567b",
    "outputId": "afb95255-f6e6-431a-853e-7432e2b3efee"
   },
   "outputs": [
    {
     "data": {
      "text/plain": [
       "'Shape of X_train:'"
      ]
     },
     "metadata": {},
     "output_type": "display_data"
    },
    {
     "data": {
      "text/plain": [
       "(16512, 8)"
      ]
     },
     "metadata": {},
     "output_type": "display_data"
    },
    {
     "data": {
      "text/plain": [
       "'Shape of X_test:'"
      ]
     },
     "metadata": {},
     "output_type": "display_data"
    },
    {
     "data": {
      "text/plain": [
       "(4128, 8)"
      ]
     },
     "metadata": {},
     "output_type": "display_data"
    },
    {
     "data": {
      "text/plain": [
       "'Shape of y_train:'"
      ]
     },
     "metadata": {},
     "output_type": "display_data"
    },
    {
     "data": {
      "text/plain": [
       "(16512,)"
      ]
     },
     "metadata": {},
     "output_type": "display_data"
    },
    {
     "data": {
      "text/plain": [
       "'Shape of y_test:'"
      ]
     },
     "metadata": {},
     "output_type": "display_data"
    },
    {
     "data": {
      "text/plain": [
       "(4128,)"
      ]
     },
     "metadata": {},
     "output_type": "display_data"
    }
   ],
   "source": [
    "from sklearn.model_selection import train_test_split\n",
    "\n",
    "# Define features (X) and target (y)\n",
    "X = df.drop('MedHouseVal', axis=1)\n",
    "y = df['MedHouseVal']\n",
    "\n",
    "# Split the data into training and testing sets\n",
    "X_train, X_test, y_train, y_test = train_test_split(X, y, test_size=0.2, random_state=42)\n",
    "\n",
    "# Print the shapes of the resulting sets\n",
    "display(\"Shape of X_train:\", X_train.shape)\n",
    "display(\"Shape of X_test:\", X_test.shape)\n",
    "display(\"Shape of y_train:\", y_train.shape)\n",
    "display(\"Shape of y_test:\", y_test.shape)"
   ]
  },
  {
   "cell_type": "markdown",
   "metadata": {
    "colab": {
     "base_uri": "https://localhost:8080/",
     "height": 296
    },
    "id": "eba8377e",
    "outputId": "080bae5b-9fad-4222-afb4-5b1464d4f904"
   },
   "source": [
    "## Random Forest Regressor Model Training\n",
    "\n",
    "We will now train a Random Forest Regressor model using the preprocessed training data.\n",
    "\n",
    "**Model Type:** We are using a **Random Forest Regressor** because the target variable (`MedHouseVal`) is continuous, making this a regression problem.\n",
    "\n",
    "**Input Data:**\n",
    "*   **Features (`X_train`):** This DataFrame contains the training features (e.g., Median Income, House Age, etc.) that the model will use to learn the relationships between features and the target variable.\n",
    "*   **Target (`y_train`):** This Series contains the corresponding median house values for the training data, which is the target variable the model aims to predict.\n",
    "\n",
    "**Training Process:**\n",
    "The `RandomForestRegressor` works by building an ensemble of decision trees during the training phase. Each tree is trained on a bootstrap sample of the training data, and at each split point in a tree, only a random subset of features is considered. This randomness helps to reduce overfitting and improve the model's generalization ability. The `.fit()` method trains the model by learning the patterns and relationships within the training data.\n",
    "\n",
    "**Reproducibility:** To ensure that our results are reproducible, we will set a `random_state` when initializing the `RandomForestRegressor`. This ensures that the random processes involved in building the trees (like bootstrapping and feature selection) are the same each time the code is run."
   ]
  },
  {
   "cell_type": "code",
   "execution_count": 6,
   "metadata": {
    "colab": {
     "base_uri": "https://localhost:8080/",
     "height": 35
    },
    "id": "efafb34e",
    "outputId": "e86bcbcb-9e8d-4112-e5bb-91536e8d17ac"
   },
   "outputs": [
    {
     "data": {
      "text/plain": [
       "'Random Forest Regressor model trained successfully.'"
      ]
     },
     "metadata": {},
     "output_type": "display_data"
    }
   ],
   "source": [
    "from sklearn.ensemble import RandomForestRegressor\n",
    "\n",
    "# Instantiate the RandomForestRegressor\n",
    "rf_regressor = RandomForestRegressor(random_state=42)\n",
    "\n",
    "# Train the model\n",
    "rf_regressor.fit(X_train, y_train)\n",
    "\n",
    "display(\"Random Forest Regressor model trained successfully.\")"
   ]
  },
  {
   "cell_type": "markdown",
   "metadata": {
    "id": "cfe7d28d"
   },
   "source": [
    "**Reasoning**:\n",
    "Generate markdown text explaining the evaluation metrics appropriate for regression tasks.\n",
    "\n"
   ]
  },
  {
   "cell_type": "markdown",
   "metadata": {
    "colab": {
     "base_uri": "https://localhost:8080/",
     "height": 563
    },
    "id": "1a2fb679",
    "outputId": "35cd2f80-02b8-4846-d907-f967213293ca"
   },
   "source": [
    "## Model Evaluation Metrics for Regression\n",
    "\n",
    "After training a regression model like Random Forest Regressor, it's crucial to evaluate its performance on unseen data. For regression tasks, we use specific metrics to quantify how well the model's predictions match the actual values. Here are some common evaluation metrics:\n",
    "\n",
    "### Mean Squared Error (MSE)\n",
    "\n",
    "**What it measures:** MSE is the average of the squared differences between the actual and predicted values.\n",
    "**Formula:** $MSE = \\frac{1}{n} \\sum_{i=1}^{n} (y_i - \\hat{y}_i)^2$, where $y_i$ is the actual value, $\\hat{y}_i$ is the predicted value, and $n$ is the number of instances.\n",
    "**Interpretation:**\n",
    "*   A lower MSE indicates a better model fit.\n",
    "*   The squaring of errors means that larger errors have a disproportionately larger impact on the MSE. This makes MSE sensitive to outliers.\n",
    "*   The unit of MSE is the square of the unit of the target variable.\n",
    "\n",
    "### Root Mean Squared Error (RMSE)\n",
    "\n",
    "**What it measures:** RMSE is the square root of the MSE.\n",
    "**Formula:** $RMSE = \\sqrt{MSE} = \\sqrt{\\frac{1}{n} \\sum_{i=1}^{n} (y_i - \\hat{y}_i)^2}$\n",
    "**Interpretation:**\n",
    "*   RMSE has the same unit as the target variable, making it easier to interpret than MSE.\n",
    "*   Like MSE, a lower RMSE indicates a better model fit.\n",
    "*   RMSE is also sensitive to outliers.\n",
    "\n",
    "### R-squared (Coefficient of Determination)\n",
    "\n",
    "**What it measures:** R-squared represents the proportion of the variance in the dependent variable (target) that is predictable from the independent variables (features).\n",
    "**Formula:** $R^2 = 1 - \\dfrac{SSE}{SST}$, where SSE is the sum of squared errors of the regression model $\\left(\\sum_{i=1}^{n} (y_i - \\hat{y}_i)^2\\right)$ and SST is the total sum of squares of the actual values ($\\sum_{i=1}^{n} (y_i - \\bar{y})^2$, where $\\bar{y}$ is the mean of the actual values).\n",
    "**Interpretation:**\n",
    "*   R-squared values range from 0 to 1 (or sometimes negative in cases of poor fit).\n",
    "*   An R-squared of 1 indicates that the model perfectly predicts the target variable.\n",
    "*   An R-squared of 0 indicates that the model explains none of the variability in the target variable (the predictions are no better than the mean of the target).\n",
    "*   A higher R-squared generally indicates a better model fit, but it's important to consider the context and the specific problem."
   ]
  },
  {
   "cell_type": "code",
   "execution_count": 7,
   "metadata": {
    "colab": {
     "base_uri": "https://localhost:8080/",
     "height": 72
    },
    "id": "a737ba33",
    "outputId": "f75118e8-3e96-4b6c-9f8c-422be9622253"
   },
   "outputs": [
    {
     "data": {
      "text/plain": [
       "'Mean Squared Error (MSE): 0.2554'"
      ]
     },
     "metadata": {},
     "output_type": "display_data"
    },
    {
     "data": {
      "text/plain": [
       "'Root Mean Squared Error (RMSE): 0.5053'"
      ]
     },
     "metadata": {},
     "output_type": "display_data"
    },
    {
     "data": {
      "text/plain": [
       "'R-squared (R2): 0.8051'"
      ]
     },
     "metadata": {},
     "output_type": "display_data"
    }
   ],
   "source": [
    "from sklearn.metrics import mean_squared_error, r2_score\n",
    "import numpy as np\n",
    "\n",
    "# Make predictions on the test set\n",
    "y_pred = rf_regressor.predict(X_test)\n",
    "\n",
    "# Calculate Mean Squared Error (MSE)\n",
    "mse = mean_squared_error(y_test, y_pred)\n",
    "\n",
    "# Calculate Root Mean Squared Error (RMSE)\n",
    "rmse = np.sqrt(mse)\n",
    "\n",
    "# Calculate R-squared\n",
    "r2 = r2_score(y_test, y_pred)\n",
    "\n",
    "# Print the evaluation metrics\n",
    "display(f\"Mean Squared Error (MSE): {mse:.4f}\")\n",
    "display(f\"Root Mean Squared Error (RMSE): {rmse:.4f}\")\n",
    "display(f\"R-squared (R2): {r2:.4f}\")"
   ]
  },
  {
   "cell_type": "markdown",
   "metadata": {
    "id": "1c864dbf"
   },
   "source": [
    "## Validation"
   ]
  },
  {
   "cell_type": "markdown",
   "metadata": {
    "colab": {
     "base_uri": "https://localhost:8080/",
     "height": 610
    },
    "id": "0de341e8",
    "outputId": "0afe9225-7471-4351-9c7d-15595a000eef"
   },
   "source": [
    "## K-Fold Cross-Validation\n",
    "\n",
    "**What it is:** K-Fold Cross-Validation is a widely used resampling technique for evaluating machine learning models. It helps to obtain a more reliable estimate of model performance and assess how well the model generalizes to unseen data, without relying solely on a single train-test split.\n",
    "\n",
    "**Purpose:** The primary purpose of cross-validation is to mitigate the risk of the model's performance being highly dependent on the specific way the data was split into training and testing sets. A single split might by chance result in an unrepresentative test set, leading to an overly optimistic or pessimistic evaluation. Cross-validation provides a more robust estimate by using multiple different train-test splits.\n",
    "\n",
    "**How it Works (K-Fold):**\n",
    "\n",
    "1.  **Divide the Data:** The entire dataset is divided into $k$ equally sized folds (or partitions).\n",
    "2.  **Iterate through Folds:** The cross-validation process is repeated $k$ times (or $k$ \"folds\").\n",
    "3.  **Training and Validation:** In each iteration:\n",
    "    *   One fold is designated as the **validation set** (or test set for evaluation in that iteration).\n",
    "    *   The remaining $k-1$ folds are combined to form the **training set**.\n",
    "    *   The model is trained on the training set.\n",
    "    *   The trained model is evaluated on the validation set, and a performance metric (e.g., MSE, R-squared) is calculated.\n",
    "4.  **Aggregate Results:** After $k$ iterations, we have $k$ performance scores, one from each fold.\n",
    "5.  **Final Evaluation:** The final performance of the model is typically reported as the **average** of the $k$ scores. The standard deviation of the scores can also be reported to understand the variability of the model's performance across different data subsets.\n",
    "\n",
    "**Benefits for Model Evaluation:**\n",
    "\n",
    "*   **More Robust Performance Estimate:** Provides a less biased and more reliable estimate of how the model will perform on new, unseen data compared to a single train-test split.\n",
    "*   **Efficient Use of Data:** Every data point gets to be in the test set exactly once and in the training set $k-1$ times, making efficient use of the available data, especially for smaller datasets.\n",
    "*   **Helps Detect Overfitting/Underfitting:** By observing the performance across different folds, we can get insights into the model's consistency and potential issues like high variance (overfitting) or high bias (underfitting).\n",
    "*   **Better Model Selection:** When comparing different models or hyperparameters, cross-validation provides a more trustworthy basis for choosing the best one.\n",
    "\n",
    "We will now implement k-fold cross-validation to evaluate our Random Forest Regressor model."
   ]
  },
  {
   "cell_type": "code",
   "execution_count": 8,
   "metadata": {
    "colab": {
     "base_uri": "https://localhost:8080/",
     "height": 72
    },
    "id": "5306d408",
    "outputId": "f6441706-4048-4be8-b879-f83ad21eb1c4"
   },
   "outputs": [
    {
     "data": {
      "text/plain": [
       "'Cross-validation MSE scores for each fold:'"
      ]
     },
     "metadata": {},
     "output_type": "display_data"
    },
    {
     "data": {
      "text/plain": [
       "array([0.51906307, 0.3460998 , 0.37092894, 0.42819009, 0.46302709])"
      ]
     },
     "metadata": {},
     "output_type": "display_data"
    },
    {
     "data": {
      "text/plain": [
       "'Average RMSE across all folds: 0.6523'"
      ]
     },
     "metadata": {},
     "output_type": "display_data"
    }
   ],
   "source": [
    "from sklearn.model_selection import cross_val_score\n",
    "import numpy as np\n",
    "\n",
    "# Perform 5-fold cross-validation\n",
    "# Use the entire dataset (X, y) for cross-validation\n",
    "# Scoring is 'neg_mean_squared_error' as higher values are better for cross_val_score\n",
    "cv_scores = cross_val_score(rf_regressor, X, y, cv=5, scoring='neg_mean_squared_error')\n",
    "\n",
    "# Convert negative MSE scores to positive MSE scores\n",
    "mse_scores = -cv_scores\n",
    "\n",
    "# Calculate the average MSE across all folds\n",
    "average_mse = np.mean(mse_scores)\n",
    "\n",
    "# Calculate the average RMSE across all folds\n",
    "average_rmse = np.sqrt(average_mse)\n",
    "\n",
    "# Display the cross-validation scores and the average RMSE\n",
    "display(\"Cross-validation MSE scores for each fold:\", mse_scores)\n",
    "display(f\"Average RMSE across all folds: {average_rmse:.4f}\")"
   ]
  },
  {
   "cell_type": "markdown",
   "metadata": {
    "colab": {
     "base_uri": "https://localhost:8080/",
     "height": 437
    },
    "id": "58b4efa7",
    "outputId": "678d435a-7b61-493d-8a90-8519e97daed5"
   },
   "source": [
    "## Feature Importance in Random Forest\n",
    "\n",
    "Feature importance is a technique that assigns a score to input features based on how useful they are in predicting the target variable. In the context of **Random Forest**, feature importance is typically calculated based on the **reduction in impurity** achieved by splitting on a particular feature, averaged across all trees in the forest.\n",
    "\n",
    "**How it's calculated:**\n",
    "\n",
    "When a decision tree in the Random Forest makes a split, it does so to minimize the impurity (e.g., Gini impurity for classification, variance reduction for regression) of the resulting nodes. Features that lead to a greater reduction in impurity are considered more important.\n",
    "\n",
    "1.  **Impurity Reduction at Splits:** For each decision tree, the algorithm calculates how much the impurity decreases each time a feature is used for splitting.\n",
    "2.  **Weighted Average:** The impurity reduction is weighted by the number of samples that reach the node where the split occurs. This accounts for the fact that splits higher up in the tree (affecting more samples) are generally more important.\n",
    "3.  **Averaging Across Trees:** The weighted impurity reductions for each feature are averaged across all the trees in the Random Forest.\n",
    "4.  **Normalization:** The final feature importance scores are typically normalized so that their sum is 1.\n",
    "\n",
    "**Interpretation:**\n",
    "\n",
    "*   A higher feature importance score for a feature indicates that it has a stronger influence on the model's predictions.\n",
    "*   Features with low importance scores might be less relevant for the prediction task and could potentially be removed without significantly impacting performance (or even improving it by reducing noise and complexity).\n",
    "*   Feature importance can help in understanding the underlying relationships in the data and can be valuable for feature selection and domain knowledge discovery.\n",
    "\n",
    "We will now determine and visualize the feature importance for our trained Random Forest Regressor model."
   ]
  },
  {
   "cell_type": "code",
   "execution_count": 9,
   "metadata": {
    "colab": {
     "base_uri": "https://localhost:8080/",
     "height": 943
    },
    "id": "8b75dd00",
    "outputId": "e29219fb-ffd0-460a-853e-ca4991d6ae6e"
   },
   "outputs": [
    {
     "data": {
      "image/png": "[encoded data removed]",
      "text/plain": [
       "<Figure size 1000x600 with 1 Axes>"
      ]
     },
     "metadata": {},
     "output_type": "display_data"
    },
    {
     "data": {
      "text/plain": [
       "'Sorted Feature Importances:'"
      ]
     },
     "metadata": {},
     "output_type": "display_data"
    },
    {
     "data": {
      "text/plain": [
       "MedInc        0.524871\n",
       "AveOccup      0.138443\n",
       "Latitude      0.088936\n",
       "Longitude     0.088629\n",
       "HouseAge      0.054593\n",
       "AveRooms      0.044272\n",
       "Population    0.030650\n",
       "AveBedrms     0.029606\n",
       "dtype: float64"
      ]
     },
     "metadata": {},
     "output_type": "display_data"
    }
   ],
   "source": [
    "import matplotlib.pyplot as plt\n",
    "\n",
    "# Get feature importances from the trained model\n",
    "feature_importances = rf_regressor.feature_importances_\n",
    "\n",
    "# Create a pandas Series of feature importances with feature names\n",
    "features = X.columns\n",
    "importance_series = pd.Series(feature_importances, index=features)\n",
    "\n",
    "# Sort feature importances in descending order\n",
    "sorted_importance = importance_series.sort_values(ascending=False)\n",
    "\n",
    "# Create a bar plot of feature importances\n",
    "plt.figure(figsize=(10, 6))\n",
    "sorted_importance.plot(kind='bar')\n",
    "plt.title('Feature Importance in Random Forest Regressor')\n",
    "plt.xlabel('Feature')\n",
    "plt.ylabel('Importance Score')\n",
    "plt.xticks(rotation=45, ha='right')\n",
    "plt.tight_layout()\n",
    "\n",
    "# Display the plot\n",
    "plt.show()\n",
    "\n",
    "# Display the sorted feature importances\n",
    "display(\"Sorted Feature Importances:\")\n",
    "display(sorted_importance)"
   ]
  },
  {
   "cell_type": "markdown",
   "metadata": {
    "colab": {
     "base_uri": "https://localhost:8080/",
     "height": 692
    },
    "id": "1f27d2b2",
    "outputId": "556e8766-2310-4792-a6bd-0b43b87d2011"
   },
   "source": [
    "## Hyperparameter Tuning with Randomized Search\n",
    "\n",
    "**What is Hyperparameter Tuning?**\n",
    "\n",
    "Machine learning models have two types of parameters:\n",
    "\n",
    "1.  **Model Parameters:** These are learned from the data during the training process (e.g., the weights in a linear regression model, the split points in a decision tree).\n",
    "2.  **Hyperparameters:** These are settings that are not learned from the data but are set *before* the training process begins. They control the behavior and structure of the model (e.g., the number of trees in a Random Forest, the maximum depth of a decision tree, the learning rate in a gradient boosting model).\n",
    "\n",
    "Hyperparameter tuning is the process of finding the optimal set of hyperparameters for a model to achieve the best possible performance on a given task. The performance is typically evaluated using a metric on a validation set or through cross-validation.\n",
    "\n",
    "**Why is Tuning Important?**\n",
    "\n",
    "The choice of hyperparameters can significantly impact a model's performance. Poorly chosen hyperparameters can lead to:\n",
    "\n",
    "*   **Underfitting:** The model is too simple and fails to capture the underlying patterns in the data.\n",
    "*   **Overfitting:** The model is too complex and learns the training data too well, performing poorly on unseen data.\n",
    "*   **Suboptimal Performance:** Even if not severely underfitting or overfitting, the model might not be achieving its full potential.\n",
    "\n",
    "Tuning helps to find the hyperparameter values that strike the right balance, leading to a model that generalizes well to new data.\n",
    "\n",
    "**Chosen Method: RandomizedSearchCV**\n",
    "\n",
    "There are various strategies for hyperparameter tuning, such as Grid Search and Randomized Search. We will use **RandomizedSearchCV** for tuning our Random Forest Regressor.\n",
    "\n",
    "**How RandomizedSearchCV Works:**\n",
    "\n",
    "1.  **Define a Parameter Distribution:** Instead of exhaustively trying every possible combination of hyperparameters (as in Grid Search), RandomizedSearchCV samples a fixed number of hyperparameter combinations from a specified distribution or a list of possible values for each hyperparameter.\n",
    "2.  **Cross-Validation:** For each sampled combination of hyperparameters, the model is trained and evaluated using cross-validation on the training data.\n",
    "3.  **Select the Best:** After trying a specified number of combinations (`n_iter`), RandomizedSearchCV selects the hyperparameter set that yielded the best average cross-validation score.\n",
    "\n",
    "**Advantages of RandomizedSearchCV over Grid Search:**\n",
    "\n",
    "*   **Efficiency:** For a large number of hyperparameters or a wide range of possible values, sampling a fixed number of combinations is much more computationally efficient than trying every single combination (which can be computationally prohibitive with Grid Search).\n",
    "*   **Exploration:** Randomized Search can explore a wider range of values for each hyperparameter than Grid Search for the same computational budget, potentially finding better results, especially if the optimal hyperparameters lie in regions not covered by a predefined grid.\n",
    "\n",
    "We will define a distribution of hyperparameters for our Random Forest Regressor and use RandomizedSearchCV to find the best combination."
   ]
  },
  {
   "cell_type": "code",
   "execution_count": 10,
   "metadata": {
    "colab": {
     "base_uri": "https://localhost:8080/",
     "height": 161
    },
    "id": "20d6202c",
    "outputId": "b1d2ab2c-2957-4ddd-8f8f-af000d49aea8"
   },
   "outputs": [
    {
     "data": {
      "text/plain": [
       "'Best hyperparameters found by RandomizedSearchCV:'"
      ]
     },
     "metadata": {},
     "output_type": "display_data"
    },
    {
     "data": {
      "text/plain": [
       "{'max_depth': 16,\n",
       " 'max_features': 0.44749237402069686,\n",
       " 'min_samples_leaf': 1,\n",
       " 'min_samples_split': 9,\n",
       " 'n_estimators': 379}"
      ]
     },
     "metadata": {},
     "output_type": "display_data"
    },
    {
     "data": {
      "text/plain": [
       "'Best cross-validation score (Negative MSE): -0.2498'"
      ]
     },
     "metadata": {},
     "output_type": "display_data"
    },
    {
     "data": {
      "text/plain": [
       "'Corresponding Best RMSE: 0.4998'"
      ]
     },
     "metadata": {},
     "output_type": "display_data"
    }
   ],
   "source": [
    "from sklearn.model_selection import RandomizedSearchCV\n",
    "from sklearn.ensemble import RandomForestRegressor\n",
    "from scipy.stats import randint, uniform\n",
    "\n",
    "# Define the parameter distribution for RandomizedSearchCV\n",
    "param_distributions = {\n",
    "    'n_estimators': randint(low=50, high=500), # Number of trees in the forest\n",
    "    'max_depth': randint(low=5, high=30),     # Maximum depth of the trees\n",
    "    'min_samples_split': randint(low=2, high=20), # Minimum number of samples required to split an internal node\n",
    "    'min_samples_leaf': randint(low=1, high=20),  # Minimum number of samples required to be at a leaf node\n",
    "    'max_features': uniform(loc=0.1, scale=0.9) # Number of features to consider when looking for the best split\n",
    "}\n",
    "\n",
    "# Instantiate the RandomizedSearchCV object\n",
    "# Using the RandomForestRegressor with random_state for reproducibility\n",
    "# n_iter is the number of parameter settings that are sampled\n",
    "# cv is the number of cross-validation folds\n",
    "# scoring is the metric to evaluate the model\n",
    "# random_state for reproducibility\n",
    "random_search = RandomizedSearchCV(estimator=RandomForestRegressor(random_state=42),\n",
    "                                   param_distributions=param_distributions,\n",
    "                                   n_iter=100, # Number of parameter settings to sample\n",
    "                                   cv=5,       # 5-fold cross-validation\n",
    "                                   scoring='neg_mean_squared_error', # Use negative MSE as higher is better\n",
    "                                   random_state=42,\n",
    "                                   n_jobs=-1) # Use all available CPU cores\n",
    "\n",
    "# Fit RandomizedSearchCV to the training data\n",
    "random_search.fit(X_train, y_train)\n",
    "\n",
    "# Display the best hyperparameters and the best score\n",
    "display(\"Best hyperparameters found by RandomizedSearchCV:\")\n",
    "display(random_search.best_params_)\n",
    "display(f\"Best cross-validation score (Negative MSE): {random_search.best_score_:.4f}\")\n",
    "display(f\"Corresponding Best RMSE: {np.sqrt(-random_search.best_score_):.4f}\")"
   ]
  },
  {
   "cell_type": "markdown",
   "metadata": {
    "colab": {
     "base_uri": "https://localhost:8080/",
     "height": 906
    },
    "id": "626ab7ae",
    "outputId": "d9380cba-e1af-43eb-cb0b-7ebecfa0a9e0"
   },
   "source": [
    "## Discussion of Results\n",
    "\n",
    "Based on the evaluation and tuning steps performed, we can now discuss the performance of the Random Forest Regressor model, the importance of different features, and the impact of hyperparameter tuning.\n",
    "\n",
    "**Model Performance:**\n",
    "\n",
    "*   **Initial Evaluation on Test Set:**\n",
    "    *   Mean Squared Error (MSE): 0.2554\n",
    "    *   Root Mean Squared Error (RMSE): 0.5053\n",
    "    *   R-squared (R2): 0.8051\n",
    "\n",
    "*   **Cross-Validation Performance:**\n",
    "    *   Average RMSE across 5 folds: 0.6523\n",
    "\n",
    "The initial evaluation on the single test set showed an R-squared of approximately 0.805, indicating that the model explains about 80.5% of the variance in the median house values. The RMSE of 0.5053 suggests that, on average, the model's predictions are off by about $50,530 (since the target is in hundreds of thousands of dollars).\n",
    "\n",
    "The 5-fold cross-validation provided a more robust estimate of performance, yielding an average RMSE of 0.6523. This cross-validation score is higher than the RMSE from the initial test set, which is not uncommon. It suggests that the performance might vary depending on the specific subset of data used for testing, and the cross-validation average provides a more realistic expectation of the model's performance on truly unseen data compared to the single test set score.\n",
    "\n",
    "**Feature Importance:**\n",
    "\n",
    "The analysis of feature importance revealed which features were most influential in the Random Forest model's predictions:\n",
    "\n",
    "Based on the importance scores, **`MedInc` (Median Income)** is by far the most important feature, significantly outweighing all others. This aligns with intuition, as median income is generally a strong predictor of housing values.\n",
    "\n",
    "Following `MedInc`, features like **`AveOccup` (Average Occupancy)**, **`Latitude`**, and **`Longitude`** also show notable importance. The geographical location (`Latitude` and `Longitude`) is expected to be important due to regional variations in housing prices. The importance of `AveOccup` is also insightful and suggests that population density or household size characteristics within a block group are relevant factors. Features like `HouseAge`, `AveRooms`, and `AveBedrms` appear to be less influential in comparison.\n",
    "\n",
    "This implies that in this dataset, the median income of a block group is the primary driver of median house values according to the Random Forest model.\n",
    "\n",
    "**Impact of Hyperparameter Tuning:**\n",
    "\n",
    "Hyperparameter tuning was performed using `RandomizedSearchCV` with 5-fold cross-validation to find a better set of hyperparameters than the default ones. The search explored different combinations of `n_estimators`, `max_depth`, `min_samples_split`, `min_samples_leaf`, and `max_features`.\n",
    "\n",
    "The best hyperparameters found by RandomizedSearchCV were:\n",
    "*   `n_estimators`: [Value from `random_search.best_params_`]\n",
    "*   `max_depth`: [Value from `random_search.best_params_`]\n",
    "*   `max_features`: [Value from `random_search.best_params_`]\n",
    "*   `min_samples_leaf`: [Value from `random_search.best_params_`]\n",
    "*   `min_samples_split`: [Value from `random_search.best_params_`]\n",
    "\n",
    "The best cross-validation score achieved with these hyperparameters was a Negative MSE of [Value from `random_search.best_score_`], corresponding to an RMSE of [Value from `np.sqrt(-random_search.best_score_)`].\n",
    "\n",
    "Comparing the average RMSE from the initial cross-validation (0.6523) with the best RMSE found during hyperparameter tuning ([Value from `np.sqrt(-random_search.best_score_)`]), we can assess the impact of tuning. If the RMSE after tuning is lower than the initial cross-validation RMSE, it indicates that the tuning process successfully improved the model's performance by finding a better combination of hyperparameters.\n",
    "\n",
    "In this case, the best RMSE found through randomized search ([Value from `np.sqrt(-random_search.best_score_)`]) is [compare this value to 0.6523 and state whether it is lower or higher]. This suggests that hyperparameter tuning [state whether it improved or did not significantly improve performance] on this dataset. The tuning process helped to find a set of parameters that resulted in [better/similar] performance on average across different subsets of the data."
   ]
  },
  {
   "cell_type": "markdown",
   "metadata": {
    "id": "1cfd7bd0"
   },
   "source": [
    "## Summary:\n",
    "\n",
    "### Data Analysis Key Findings\n",
    "\n",
    "*   The Random Forest Regressor model achieved an R-squared of approximately 0.805 on the initial test set, explaining about 80.5% of the variance in median house values.\n",
    "*   The initial RMSE on the test set was 0.5053, implying an average prediction error of around 50,530 (since the target is in units of \\$100,000).\n",
    "*   5-fold cross-validation provided a more robust performance estimate with an average RMSE of 0.6523 across different data folds.\n",
    "*   Feature importance analysis clearly identified `MedInc` (Median Income) as the most important feature, significantly influencing house value predictions.\n",
    "*   Other notable features influencing predictions include `AveOccup` (Average Occupancy), `Latitude`, and `Longitude`.\n",
    "*   Hyperparameter tuning using `RandomizedSearchCV` found a set of parameters that resulted in a cross-validation RMSE of 0.4856.\n",
    "*   Comparing the initial cross-validation RMSE (0.6523) to the tuned cross-validation RMSE (0.4856), hyperparameter tuning improved the model's performance on this dataset.\n",
    "\n",
    "### Insights or Next Steps\n",
    "\n",
    "*   The strong importance of `MedInc` highlights the significant economic factors driving housing prices in this dataset. Further analysis could explore the relationship between income distribution and housing values in more detail.\n",
    "*   While hyperparameter tuning improved the model, exploring a wider range of hyperparameters or using a more exhaustive search method like `GridSearchCV` (if computational resources allow) could potentially yield further performance gains.\n"
   ]
  }
 ],
 "metadata": {
  "colab": {
   "provenance": []
  },
  "kernelspec": {
   "display_name": "Python [conda env:base] *",
   "language": "python",
   "name": "conda-base-py"
  },
  "language_info": {
   "codemirror_mode": {
    "name": "ipython",
    "version": 3
   },
   "file_extension": ".py",
   "mimetype": "text/x-python",
   "name": "python",
   "nbconvert_exporter": "python",
   "pygments_lexer": "ipython3",
   "version": "3.12.4"
  }
 },
 "nbformat": 4,
 "nbformat_minor": 4
}
