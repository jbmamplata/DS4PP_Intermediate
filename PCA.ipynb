{
 "cells": [
  {
   "cell_type": "markdown",
   "metadata": {
    "colab": {
     "base_uri": "https://localhost:8080/",
     "height": 281
    },
    "executionInfo": {
     "elapsed": 18,
     "status": "ok",
     "timestamp": 1757768517510,
     "user": {
      "displayName": "Jonathan Mamplata",
      "userId": "03615677832131703370"
     },
     "user_tz": -480
    },
    "id": "d250f59b",
    "outputId": "d96dccf1-f72b-4fc6-f442-bbf6113739bd"
   },
   "source": [
    "## Principal Component Analysis (PCA)\n",
    "\n",
    "Principal Component Analysis (PCA) is a statistical technique used for dimensionality reduction. Its primary purpose is to transform a dataset with a large number of features into a dataset with fewer features, while retaining as much of the original variance (information) as possible.\n",
    "\n",
    "The core idea behind PCA is to find a new set of uncorrelated variables, called principal components, which are linear combinations of the original variables. These principal components are ordered such that the first component captures the largest possible variance in the data, the second component captures the next largest variance, and so on, subject to being orthogonal to the preceding components. By selecting a subset of these principal components, typically the first few that account for a significant portion of the total variance, we can reduce the dimensionality of the dataset.\n",
    "\n",
    "Dimensionality reduction is important for several reasons:\n",
    "- **Reducing noise:** By focusing on the components with the most variance, we can effectively filter out noise present in less important dimensions.\n",
    "- **Improving model performance:** Many machine learning algorithms perform better with fewer features, especially when features are highly correlated.\n",
    "- **Easing visualization:** Reducing data to two or three dimensions makes it possible to visualize complex datasets.\n",
    "- **Reducing computational cost:** Working with fewer features requires less memory and processing power."
   ]
  },
  {
   "cell_type": "markdown",
   "metadata": {
    "id": "edc883ac"
   },
   "source": [
    "## Dataset"
   ]
  },
  {
   "cell_type": "code",
   "execution_count": 1,
   "metadata": {
    "colab": {
     "base_uri": "https://localhost:8080/",
     "height": 244
    },
    "executionInfo": {
     "elapsed": 625,
     "status": "ok",
     "timestamp": 1757768531333,
     "user": {
      "displayName": "Jonathan Mamplata",
      "userId": "03615677832131703370"
     },
     "user_tz": -480
    },
    "id": "18d9c0e5",
    "outputId": "e9a3cdd9-412a-4ed5-c07f-ed9ae16c6055"
   },
   "outputs": [
    {
     "data": {
      "text/html": [
       "<div>\n",
       "<style scoped>\n",
       "    .dataframe tbody tr th:only-of-type {\n",
       "        vertical-align: middle;\n",
       "    }\n",
       "\n",
       "    .dataframe tbody tr th {\n",
       "        vertical-align: top;\n",
       "    }\n",
       "\n",
       "    .dataframe thead th {\n",
       "        text-align: right;\n",
       "    }\n",
       "</style>\n",
       "<table border=\"1\" class=\"dataframe\">\n",
       "  <thead>\n",
       "    <tr style=\"text-align: right;\">\n",
       "      <th></th>\n",
       "      <th>alcohol</th>\n",
       "      <th>malic_acid</th>\n",
       "      <th>ash</th>\n",
       "      <th>alcalinity_of_ash</th>\n",
       "      <th>magnesium</th>\n",
       "      <th>total_phenols</th>\n",
       "      <th>flavanoids</th>\n",
       "      <th>nonflavanoid_phenols</th>\n",
       "      <th>proanthocyanins</th>\n",
       "      <th>color_intensity</th>\n",
       "      <th>hue</th>\n",
       "      <th>od280/od315_of_diluted_wines</th>\n",
       "      <th>proline</th>\n",
       "    </tr>\n",
       "  </thead>\n",
       "  <tbody>\n",
       "    <tr>\n",
       "      <th>0</th>\n",
       "      <td>14.23</td>\n",
       "      <td>1.71</td>\n",
       "      <td>2.43</td>\n",
       "      <td>15.6</td>\n",
       "      <td>127.0</td>\n",
       "      <td>2.80</td>\n",
       "      <td>3.06</td>\n",
       "      <td>0.28</td>\n",
       "      <td>2.29</td>\n",
       "      <td>5.64</td>\n",
       "      <td>1.04</td>\n",
       "      <td>3.92</td>\n",
       "      <td>1065.0</td>\n",
       "    </tr>\n",
       "    <tr>\n",
       "      <th>1</th>\n",
       "      <td>13.20</td>\n",
       "      <td>1.78</td>\n",
       "      <td>2.14</td>\n",
       "      <td>11.2</td>\n",
       "      <td>100.0</td>\n",
       "      <td>2.65</td>\n",
       "      <td>2.76</td>\n",
       "      <td>0.26</td>\n",
       "      <td>1.28</td>\n",
       "      <td>4.38</td>\n",
       "      <td>1.05</td>\n",
       "      <td>3.40</td>\n",
       "      <td>1050.0</td>\n",
       "    </tr>\n",
       "    <tr>\n",
       "      <th>2</th>\n",
       "      <td>13.16</td>\n",
       "      <td>2.36</td>\n",
       "      <td>2.67</td>\n",
       "      <td>18.6</td>\n",
       "      <td>101.0</td>\n",
       "      <td>2.80</td>\n",
       "      <td>3.24</td>\n",
       "      <td>0.30</td>\n",
       "      <td>2.81</td>\n",
       "      <td>5.68</td>\n",
       "      <td>1.03</td>\n",
       "      <td>3.17</td>\n",
       "      <td>1185.0</td>\n",
       "    </tr>\n",
       "    <tr>\n",
       "      <th>3</th>\n",
       "      <td>14.37</td>\n",
       "      <td>1.95</td>\n",
       "      <td>2.50</td>\n",
       "      <td>16.8</td>\n",
       "      <td>113.0</td>\n",
       "      <td>3.85</td>\n",
       "      <td>3.49</td>\n",
       "      <td>0.24</td>\n",
       "      <td>2.18</td>\n",
       "      <td>7.80</td>\n",
       "      <td>0.86</td>\n",
       "      <td>3.45</td>\n",
       "      <td>1480.0</td>\n",
       "    </tr>\n",
       "    <tr>\n",
       "      <th>4</th>\n",
       "      <td>13.24</td>\n",
       "      <td>2.59</td>\n",
       "      <td>2.87</td>\n",
       "      <td>21.0</td>\n",
       "      <td>118.0</td>\n",
       "      <td>2.80</td>\n",
       "      <td>2.69</td>\n",
       "      <td>0.39</td>\n",
       "      <td>1.82</td>\n",
       "      <td>4.32</td>\n",
       "      <td>1.04</td>\n",
       "      <td>2.93</td>\n",
       "      <td>735.0</td>\n",
       "    </tr>\n",
       "  </tbody>\n",
       "</table>\n",
       "</div>"
      ],
      "text/plain": [
       "   alcohol  malic_acid   ash  alcalinity_of_ash  magnesium  total_phenols  \\\n",
       "0    14.23        1.71  2.43               15.6      127.0           2.80   \n",
       "1    13.20        1.78  2.14               11.2      100.0           2.65   \n",
       "2    13.16        2.36  2.67               18.6      101.0           2.80   \n",
       "3    14.37        1.95  2.50               16.8      113.0           3.85   \n",
       "4    13.24        2.59  2.87               21.0      118.0           2.80   \n",
       "\n",
       "   flavanoids  nonflavanoid_phenols  proanthocyanins  color_intensity   hue  \\\n",
       "0        3.06                  0.28             2.29             5.64  1.04   \n",
       "1        2.76                  0.26             1.28             4.38  1.05   \n",
       "2        3.24                  0.30             2.81             5.68  1.03   \n",
       "3        3.49                  0.24             2.18             7.80  0.86   \n",
       "4        2.69                  0.39             1.82             4.32  1.04   \n",
       "\n",
       "   od280/od315_of_diluted_wines  proline  \n",
       "0                          3.92   1065.0  \n",
       "1                          3.40   1050.0  \n",
       "2                          3.17   1185.0  \n",
       "3                          3.45   1480.0  \n",
       "4                          2.93    735.0  "
      ]
     },
     "metadata": {},
     "output_type": "display_data"
    },
    {
     "data": {
      "text/plain": [
       "(178, 13)"
      ]
     },
     "metadata": {},
     "output_type": "display_data"
    }
   ],
   "source": [
    "from sklearn.datasets import load_wine\n",
    "import pandas as pd\n",
    "\n",
    "# Load the wine dataset which has 13 features\n",
    "wine = load_wine()\n",
    "wine_df = pd.DataFrame(data=wine.data, columns=wine.feature_names)\n",
    "\n",
    "# Display the first few rows and the shape of the DataFrame\n",
    "display(wine_df.head())\n",
    "display(wine_df.shape)"
   ]
  },
  {
   "cell_type": "markdown",
   "metadata": {
    "id": "234a441b"
   },
   "source": [
    "## Preprocess the data"
   ]
  },
  {
   "cell_type": "markdown",
   "metadata": {
    "colab": {
     "base_uri": "https://localhost:8080/",
     "height": 223
    },
    "executionInfo": {
     "elapsed": 235,
     "status": "ok",
     "timestamp": 1757768545894,
     "user": {
      "displayName": "Jonathan Mamplata",
      "userId": "03615677832131703370"
     },
     "user_tz": -480
    },
    "id": "5049f575",
    "outputId": "2850779d-1acb-4afe-8d4e-641ccae790d3"
   },
   "source": [
    "## Data Preprocessing: Scaling\n",
    "\n",
    "Before applying PCA, it is crucial to scale the data. PCA is sensitive to the scale of the features because it is based on the variance of the data. Features with larger scales will dominate the principal components, potentially leading to misleading results.\n",
    "\n",
    "For example, if one feature is measured in meters and another in kilometers, the feature in meters will have much larger numerical values and thus a much larger variance than the feature in kilometers, even if they represent the same underlying characteristic. Without scaling, PCA would give more importance to the feature in meters simply due to its larger scale.\n",
    "\n",
    "Scaling ensures that all features contribute equally to the principal components, regardless of their original units or magnitudes. Common scaling techniques include standardization (subtracting the mean and dividing by the standard deviation) and normalization (scaling features to a specific range, usually between 0 and 1). Standardization is often preferred for PCA as it centers the data around zero with a unit variance."
   ]
  },
  {
   "cell_type": "code",
   "execution_count": 2,
   "metadata": {
    "colab": {
     "base_uri": "https://localhost:8080/",
     "height": 285
    },
    "executionInfo": {
     "elapsed": 121,
     "status": "ok",
     "timestamp": 1757768553500,
     "user": {
      "displayName": "Jonathan Mamplata",
      "userId": "03615677832131703370"
     },
     "user_tz": -480
    },
    "id": "1f1cec15",
    "outputId": "a837ebdc-b27f-4108-afbd-1b6d22be72c0"
   },
   "outputs": [
    {
     "data": {
      "text/plain": [
       "array([[ 1.51861254, -0.5622498 ,  0.23205254, -1.16959318,  1.91390522,\n",
       "         0.80899739,  1.03481896, -0.65956311,  1.22488398,  0.25171685,\n",
       "         0.36217728,  1.84791957,  1.01300893],\n",
       "       [ 0.24628963, -0.49941338, -0.82799632, -2.49084714,  0.01814502,\n",
       "         0.56864766,  0.73362894, -0.82071924, -0.54472099, -0.29332133,\n",
       "         0.40605066,  1.1134493 ,  0.96524152],\n",
       "       [ 0.19687903,  0.02123125,  1.10933436, -0.2687382 ,  0.08835836,\n",
       "         0.80899739,  1.21553297, -0.49840699,  2.13596773,  0.26901965,\n",
       "         0.31830389,  0.78858745,  1.39514818],\n",
       "       [ 1.69154964, -0.34681064,  0.4879264 , -0.80925118,  0.93091845,\n",
       "         2.49144552,  1.46652465, -0.98187536,  1.03215473,  1.18606801,\n",
       "        -0.42754369,  1.18407144,  2.33457383],\n",
       "       [ 0.29570023,  0.22769377,  1.84040254,  0.45194578,  1.28198515,\n",
       "         0.80899739,  0.66335127,  0.22679555,  0.40140444, -0.31927553,\n",
       "         0.36217728,  0.44960118, -0.03787401]])"
      ]
     },
     "metadata": {},
     "output_type": "display_data"
    }
   ],
   "source": [
    "from sklearn.preprocessing import StandardScaler\n",
    "\n",
    "# Instantiate StandardScaler\n",
    "scaler = StandardScaler()\n",
    "\n",
    "# Fit the scaler to the wine_df DataFrame and transform the data\n",
    "scaled_wine_data = scaler.fit_transform(wine_df)\n",
    "\n",
    "# Display the first few rows of the scaled_wine_data\n",
    "display(scaled_wine_data[:5])"
   ]
  },
  {
   "cell_type": "markdown",
   "metadata": {
    "id": "c465e1fa"
   },
   "source": [
    "## Apply PCA"
   ]
  },
  {
   "cell_type": "code",
   "execution_count": 3,
   "metadata": {
    "colab": {
     "base_uri": "https://localhost:8080/",
     "height": 53
    },
    "executionInfo": {
     "elapsed": 22,
     "status": "ok",
     "timestamp": 1757768566768,
     "user": {
      "displayName": "Jonathan Mamplata",
      "userId": "03615677832131703370"
     },
     "user_tz": -480
    },
    "id": "4077e612",
    "outputId": "a327cd7d-142d-42a6-b52a-89ed5b3216b3"
   },
   "outputs": [
    {
     "name": "stdout",
     "output_type": "stream",
     "text": [
      "Number of components to explain 95% variance: 10\n"
     ]
    },
    {
     "data": {
      "text/plain": [
       "(178, 10)"
      ]
     },
     "metadata": {},
     "output_type": "display_data"
    }
   ],
   "source": [
    "from sklearn.decomposition import PCA\n",
    "import numpy as np\n",
    "\n",
    "# Instantiate PCA without specifying the number of components\n",
    "pca_full = PCA()\n",
    "\n",
    "# Fit PCA to the scaled data\n",
    "pca_full.fit(scaled_wine_data)\n",
    "\n",
    "# Calculate cumulative explained variance ratio\n",
    "cumulative_explained_variance = np.cumsum(pca_full.explained_variance_ratio_)\n",
    "\n",
    "# Determine the number of components to explain 95% of the variance\n",
    "n_components_95 = np.argmax(cumulative_explained_variance >= 0.95) + 1\n",
    "\n",
    "print(f\"Number of components to explain 95% variance: {n_components_95}\")\n",
    "\n",
    "# Instantiate PCA with the determined number of components\n",
    "pca_final = PCA(n_components=n_components_95)\n",
    "\n",
    "# Fit and transform the scaled data\n",
    "pca_result = pca_final.fit_transform(scaled_wine_data)\n",
    "\n",
    "# Display the shape of the transformed data\n",
    "display(pca_result.shape)"
   ]
  },
  {
   "cell_type": "markdown",
   "metadata": {
    "id": "a657c2cc"
   },
   "source": [
    "## Visualize results"
   ]
  },
  {
   "cell_type": "markdown",
   "metadata": {
    "id": "3bd26e94"
   },
   "source": [
    "**Reasoning**:\n",
    "Create a scatter plot of the first two principal components, colored by the original wine species, with appropriate labels, title, and legend, to visualize the dimensionality reduction.\n",
    "\n"
   ]
  },
  {
   "cell_type": "code",
   "execution_count": 11,
   "metadata": {
    "colab": {
     "base_uri": "https://localhost:8080/",
     "height": 641
    },
    "executionInfo": {
     "elapsed": 1173,
     "status": "ok",
     "timestamp": 1757768582933,
     "user": {
      "displayName": "Jonathan Mamplata",
      "userId": "03615677832131703370"
     },
     "user_tz": -480
    },
    "id": "02fae9ed",
    "outputId": "73493163-0f5b-48e3-e3b5-e8b19e03f74c"
   },
   "outputs": [
    {
     "data": {
      "image/png": "[encoded data removed]",
      "text/plain": [
       "<Figure size 1000x700 with 1 Axes>"
      ]
     },
     "metadata": {},
     "output_type": "display_data"
    }
   ],
   "source": [
    "import matplotlib.pyplot as plt\n",
    "import numpy as np\n",
    "\n",
    "# Get the target names (species)\n",
    "target_names = wine.target_names\n",
    "\n",
    "# Create a scatter plot\n",
    "plt.figure(figsize=(10, 7))\n",
    "\n",
    "# Plot each species separately\n",
    "for i, target_name in zip([0, 1, 2], target_names):\n",
    "    plt.scatter(pca_result[wine.target == i, 0],\n",
    "                pca_result[wine.target == i, 1],\n",
    "                label=target_name)\n",
    "\n",
    "# Add labels and title\n",
    "plt.xlabel('Principal Component 1')\n",
    "plt.ylabel('Principal Component 2')\n",
    "plt.title('PCA of Wine Dataset')\n",
    "\n",
    "# Add legend\n",
    "plt.legend()\n",
    "\n",
    "# Display the plot\n",
    "plt.show()"
   ]
  },
  {
   "cell_type": "markdown",
   "metadata": {
    "id": "38b6d1ac"
   },
   "source": [
    "## Discuss and interpret the components\n",
    "\n",
    "### Subtask:\n",
    "Explain the interpretation of the principal components and the explained variance.\n"
   ]
  },
  {
   "cell_type": "markdown",
   "metadata": {
    "id": "86c69f9a"
   },
   "source": [
    "**Reasoning**:\n",
    "Create a markdown cell to discuss the interpretation of the principal components and explained variance as requested by the subtask.\n",
    "\n"
   ]
  },
  {
   "cell_type": "code",
   "execution_count": 12,
   "metadata": {
    "colab": {
     "base_uri": "https://localhost:8080/",
     "height": 469
    },
    "executionInfo": {
     "elapsed": 49,
     "status": "ok",
     "timestamp": 1757768599256,
     "user": {
      "displayName": "Jonathan Mamplata",
      "userId": "03615677832131703370"
     },
     "user_tz": -480
    },
    "id": "e0b0ae9d",
    "outputId": "10103f4b-0246-485e-b77b-99a21e49ce04"
   },
   "outputs": [
    {
     "data": {
      "text/markdown": [
       "## Interpreting Principal Components and Explained Variance\n",
       "\n",
       "The principal components obtained from PCA are new variables that are linear combinations of the original features. Each principal component can be expressed as:\n",
       "\n",
       "$PC_i = w_{i1}X_1 + w_{i2}X_2 + ... + w_{ip}X_p$\n",
       "\n",
       "where $PC_i$ is the i-th principal component, $X_j$ is the j-th original feature, and $w_{ij}$ are the weights or loadings. These loadings represent the contribution of each original feature to the principal component. By examining the magnitude and sign of these loadings, we can understand which original features are most influential in defining each principal component. For instance, if a principal component has large positive loadings for 'alcohol' and 'malic_acid', it suggests that this component captures variations related to higher alcohol content and higher malic acid.\n",
       "\n",
       "The **explained variance ratio** for each principal component indicates the proportion of the total variance in the dataset that is captured by that component. The principal components are ordered by the amount of variance they explain, with the first principal component explaining the largest amount of variance, the second explaining the second largest, and so on.\n",
       "\n",
       "The **cumulative explained variance** is the sum of the explained variance ratios of the first $k$ principal components. It tells us the total proportion of variance in the original data that is retained when we reduce the dimensionality to $k$ components. In the previous step, we calculated that **10 components** are needed to explain approximately **95%** of the variance in the wine dataset. This means that by using these 10 principal components instead of the original 13 features, we retain most of the important information (variance) in the dataset while reducing its dimensionality.\n",
       "\n",
       "Looking back at the explained variance ratio for each component (which can be accessed from the `explained_variance_ratio_` attribute of the fitted PCA object `pca_full`), we can see how the variance is distributed across the components. The first few principal components typically capture the most significant patterns and variations in the data. For the wine dataset, the first principal component likely captures the most dominant characteristics that differentiate the wine classes, as it explains the largest portion of the variance. Subsequent components capture progressively less variance but still contribute to explaining the overall structure of the data. Analyzing the loadings for these top components would provide specific insights into which original features (e.g., alcohol, malic_acid, flavanoids) are the primary drivers of these differences.\n"
      ],
      "text/plain": [
       "<IPython.core.display.Markdown object>"
      ]
     },
     "metadata": {},
     "output_type": "display_data"
    }
   ],
   "source": [
    "%%markdown\n",
    "## Interpreting Principal Components and Explained Variance\n",
    "\n",
    "The principal components obtained from PCA are new variables that are linear combinations of the original features. Each principal component can be expressed as:\n",
    "\n",
    "$PC_i = w_{i1}X_1 + w_{i2}X_2 + ... + w_{ip}X_p$\n",
    "\n",
    "where $PC_i$ is the i-th principal component, $X_j$ is the j-th original feature, and $w_{ij}$ are the weights or loadings. These loadings represent the contribution of each original feature to the principal component. By examining the magnitude and sign of these loadings, we can understand which original features are most influential in defining each principal component. For instance, if a principal component has large positive loadings for 'alcohol' and 'malic_acid', it suggests that this component captures variations related to higher alcohol content and higher malic acid.\n",
    "\n",
    "The **explained variance ratio** for each principal component indicates the proportion of the total variance in the dataset that is captured by that component. The principal components are ordered by the amount of variance they explain, with the first principal component explaining the largest amount of variance, the second explaining the second largest, and so on.\n",
    "\n",
    "The **cumulative explained variance** is the sum of the explained variance ratios of the first $k$ principal components. It tells us the total proportion of variance in the original data that is retained when we reduce the dimensionality to $k$ components. In the previous step, we calculated that **10 components** are needed to explain approximately **95%** of the variance in the wine dataset. This means that by using these 10 principal components instead of the original 13 features, we retain most of the important information (variance) in the dataset while reducing its dimensionality.\n",
    "\n",
    "Looking back at the explained variance ratio for each component (which can be accessed from the `explained_variance_ratio_` attribute of the fitted PCA object `pca_full`), we can see how the variance is distributed across the components. The first few principal components typically capture the most significant patterns and variations in the data. For the wine dataset, the first principal component likely captures the most dominant characteristics that differentiate the wine classes, as it explains the largest portion of the variance. Subsequent components capture progressively less variance but still contribute to explaining the overall structure of the data. Analyzing the loadings for these top components would provide specific insights into which original features (e.g., alcohol, malic_acid, flavanoids) are the primary drivers of these differences."
   ]
  },
  {
   "cell_type": "markdown",
   "metadata": {
    "id": "901e235e"
   },
   "source": [
    "## Summarize pca\n",
    "\n",
    "### Subtask:\n",
    "Provide a summary of PCA and its applications.\n"
   ]
  },
  {
   "cell_type": "markdown",
   "metadata": {
    "id": "248c086c"
   },
   "source": [
    "**Reasoning**:\n",
    "Create a markdown cell to provide a concise summary of PCA, its key steps, and common applications based on the instructions.\n",
    "\n"
   ]
  },
  {
   "cell_type": "code",
   "execution_count": 13,
   "metadata": {
    "colab": {
     "base_uri": "https://localhost:8080/",
     "height": 373
    },
    "executionInfo": {
     "elapsed": 290,
     "status": "ok",
     "timestamp": 1757768612508,
     "user": {
      "displayName": "Jonathan Mamplata",
      "userId": "03615677832131703370"
     },
     "user_tz": -480
    },
    "id": "acdaadc5",
    "outputId": "70dfcc9c-64e0-4b1c-ff95-648403b4edc3"
   },
   "outputs": [
    {
     "data": {
      "text/markdown": [
       "## Summary of Principal Component Analysis (PCA)\n",
       "\n",
       "Principal Component Analysis (PCA) is a powerful **dimensionality reduction** technique. Its main goal is to transform a dataset with many variables into a dataset with fewer variables, called **principal components**, while preserving as much of the original data's variability (information) as possible. This is achieved by finding a new set of orthogonal axes that capture the directions of maximum variance in the data.\n",
       "\n",
       "The key steps involved in performing PCA are:\n",
       "\n",
       "1.  **Scaling the Data:** Standardizing or normalizing the features is crucial because PCA is sensitive to the scale of the variables.\n",
       "2.  **Applying PCA:** The PCA algorithm is applied to the scaled data to compute the principal components and the amount of variance explained by each component.\n",
       "3.  **Determining the Number of Components:** An appropriate number of principal components is selected, typically based on the cumulative explained variance (e.g., retaining components that explain a certain percentage of the total variance) or by using a scree plot.\n",
       "\n",
       "PCA has numerous applications across various fields, including:\n",
       "\n",
       "*   **Data Compression:** Reducing the number of features while retaining essential information.\n",
       "*   **Noise Reduction:** Filtering out noise by focusing on components with high variance.\n",
       "*   **Visualization:** Reducing high-dimensional data to 2 or 3 dimensions for easier plotting and visual analysis.\n",
       "*   **Feature Extraction:** Creating a smaller set of uncorrelated features that can be used as input for machine learning models, potentially improving performance and reducing training time.\n"
      ],
      "text/plain": [
       "<IPython.core.display.Markdown object>"
      ]
     },
     "metadata": {},
     "output_type": "display_data"
    }
   ],
   "source": [
    "%%markdown\n",
    "## Summary of Principal Component Analysis (PCA)\n",
    "\n",
    "Principal Component Analysis (PCA) is a powerful **dimensionality reduction** technique. Its main goal is to transform a dataset with many variables into a dataset with fewer variables, called **principal components**, while preserving as much of the original data's variability (information) as possible. This is achieved by finding a new set of orthogonal axes that capture the directions of maximum variance in the data.\n",
    "\n",
    "The key steps involved in performing PCA are:\n",
    "\n",
    "1.  **Scaling the Data:** Standardizing or normalizing the features is crucial because PCA is sensitive to the scale of the variables.\n",
    "2.  **Applying PCA:** The PCA algorithm is applied to the scaled data to compute the principal components and the amount of variance explained by each component.\n",
    "3.  **Determining the Number of Components:** An appropriate number of principal components is selected, typically based on the cumulative explained variance (e.g., retaining components that explain a certain percentage of the total variance) or by using a scree plot.\n",
    "\n",
    "PCA has numerous applications across various fields, including:\n",
    "\n",
    "*   **Data Compression:** Reducing the number of features while retaining essential information.\n",
    "*   **Noise Reduction:** Filtering out noise by focusing on components with high variance.\n",
    "*   **Visualization:** Reducing high-dimensional data to 2 or 3 dimensions for easier plotting and visual analysis.\n",
    "*   **Feature Extraction:** Creating a smaller set of uncorrelated features that can be used as input for machine learning models, potentially improving performance and reducing training time."
   ]
  },
  {
   "cell_type": "markdown",
   "metadata": {
    "id": "d339f2ef"
   },
   "source": [
    "## Summary:\n",
    "\n",
    "### Data Analysis Key Findings\n",
    "\n",
    "*   Principal Component Analysis (PCA) was introduced as a technique for dimensionality reduction that transforms data into a new set of uncorrelated principal components while retaining maximum variance.\n",
    "*   The Wine dataset, containing 13 features, was selected and loaded for demonstrating PCA.\n",
    "*   Data preprocessing through standardization using `StandardScaler` was performed on the dataset to ensure features contribute equally to the principal components.\n",
    "*   PCA was applied to the scaled data, and it was determined that 10 principal components are required to explain approximately 95% of the variance in the dataset.\n",
    "*   The data was transformed into a reduced-dimensional space with 10 principal components.\n",
    "*   A scatter plot visualizing the first two principal components of the Wine dataset was generated, showing the separation of the different wine species in the reduced 2D space.\n",
    "*   The interpretation of principal components and explained variance was discussed, highlighting how loadings indicate the contribution of original features and how cumulative explained variance helps in selecting the number of components.\n",
    "\n",
    "### Insights or Next Steps\n",
    "\n",
    "*   The transformed data with reduced dimensionality can now be used as input for machine learning models, potentially improving performance and reducing computational cost.\n",
    "*   Further analysis of the loadings of the first few principal components could provide deeper insights into which original features are the most influential in distinguishing the wine species.\n"
   ]
  }
 ],
 "metadata": {
  "colab": {
   "authorship_tag": "ABX9TyOrYLyh7Cz2RRrJRr49P1W7",
   "provenance": []
  },
  "kernelspec": {
   "display_name": "Python [conda env:base] *",
   "language": "python",
   "name": "conda-base-py"
  },
  "language_info": {
   "codemirror_mode": {
    "name": "ipython",
    "version": 3
   },
   "file_extension": ".py",
   "mimetype": "text/x-python",
   "name": "python",
   "nbconvert_exporter": "python",
   "pygments_lexer": "ipython3",
   "version": "3.12.4"
  }
 },
 "nbformat": 4,
 "nbformat_minor": 4
}
